{
 "cells": [
  {
   "cell_type": "code",
   "execution_count": 12,
   "metadata": {},
   "outputs": [],
   "source": [
    "import pandas as pd\n",
    "import awswrangler as awr\n",
    "import openpyxl\n",
    "import os\n",
    "import shutil\n",
    "import unicodedata\n",
    "import win32com.client as win32\n",
    "\n",
    "#-----------------EXTRACT\n",
    "path_to_query = r\"C:\\Users\\raphael.almeida\\Documents\\Projetos\\Seguro de Vida Motorista\\base_seguro_de_vida.sql\"\n",
    "\n",
    "with open (path_to_query,'r') as reading:\n",
    "    query_readed = reading.read()\n",
    "\n",
    "df = awr.athena.read_sql_query(query_readed,'silver')"
   ]
  },
  {
   "cell_type": "code",
   "execution_count": 13,
   "metadata": {},
   "outputs": [],
   "source": [
    "#-----------------TRANSFORM\n",
    "#adding empty e-mails with the e-mail common pattern\n",
    "row = df['e_mail'].isnull() & df['unidade'].str.contains('UNIDADE ')\n",
    "df.loc[row, 'e_mail'] = 'unidade.' + df.loc[row, 'unidade'].str.replace('UNIDADE ', '').str.lower() + '@transdesk.com.br'\n"
   ]
  },
  {
   "cell_type": "code",
   "execution_count": 14,
   "metadata": {},
   "outputs": [],
   "source": [
    "#removing empty spaces\n",
    "df['e_mail'] = df['e_mail'].str.replace(' ','')\n",
    "\n",
    "#removing diacritics with unicodedata\n",
    "def remove_diacritics (texto):\n",
    "    if isinstance(texto,str):\n",
    "        return ''.join(c for c in unicodedata.normalize('NFKD',texto) if not unicodedata.combining(c))\n",
    "    return texto\n",
    "\n",
    "df['e_mail'] = df['e_mail'].apply(remove_diacritics)\n",
    "\n",
    "df = df.reset_index(drop=True)\n"
   ]
  },
  {
   "cell_type": "code",
   "execution_count": 4,
   "metadata": {},
   "outputs": [
    {
     "data": {
      "text/html": [
       "<div>\n",
       "<style scoped>\n",
       "    .dataframe tbody tr th:only-of-type {\n",
       "        vertical-align: middle;\n",
       "    }\n",
       "\n",
       "    .dataframe tbody tr th {\n",
       "        vertical-align: top;\n",
       "    }\n",
       "\n",
       "    .dataframe thead th {\n",
       "        text-align: right;\n",
       "    }\n",
       "</style>\n",
       "<table border=\"1\" class=\"dataframe\">\n",
       "  <thead>\n",
       "    <tr style=\"text-align: right;\">\n",
       "      <th></th>\n",
       "      <th>cooperativa</th>\n",
       "      <th>unidade</th>\n",
       "      <th>cliente</th>\n",
       "      <th>conjunto</th>\n",
       "      <th>coverage</th>\n",
       "      <th>beneficio</th>\n",
       "      <th>placa</th>\n",
       "      <th>motorista</th>\n",
       "      <th>e_mail</th>\n",
       "    </tr>\n",
       "  </thead>\n",
       "  <tbody>\n",
       "    <tr>\n",
       "      <th>0</th>\n",
       "      <td>Stcoop</td>\n",
       "      <td>UNIDADE PORTO VELHO</td>\n",
       "      <td>BENTO TRANSPORTES</td>\n",
       "      <td>6580</td>\n",
       "      <td>26735</td>\n",
       "      <td>REPARAÇÃO OU REPOSIÇÃO DO (SEMI)REBOQUE</td>\n",
       "      <td>APE3286</td>\n",
       "      <td>&lt;NA&gt;</td>\n",
       "      <td>unidade.portovelho@transdesk.com.br</td>\n",
       "    </tr>\n",
       "    <tr>\n",
       "      <th>1</th>\n",
       "      <td>Stcoop</td>\n",
       "      <td>UNIDADE PORTO VELHO</td>\n",
       "      <td>BENTO TRANSPORTES</td>\n",
       "      <td>6580</td>\n",
       "      <td>26735</td>\n",
       "      <td>REPARAÇÃO OU REPOSIÇÃO DO (SEMI)REBOQUE</td>\n",
       "      <td>APT8862</td>\n",
       "      <td>&lt;NA&gt;</td>\n",
       "      <td>unidade.portovelho@transdesk.com.br</td>\n",
       "    </tr>\n",
       "    <tr>\n",
       "      <th>2</th>\n",
       "      <td>Stcoop</td>\n",
       "      <td>UNIDADE PORTO VELHO</td>\n",
       "      <td>BENTO TRANSPORTES</td>\n",
       "      <td>6580</td>\n",
       "      <td>26734</td>\n",
       "      <td>ASSESSORIA JURÍDICA</td>\n",
       "      <td>PQY1245</td>\n",
       "      <td>&lt;NA&gt;</td>\n",
       "      <td>unidade.portovelho@transdesk.com.br</td>\n",
       "    </tr>\n",
       "    <tr>\n",
       "      <th>3</th>\n",
       "      <td>Stcoop</td>\n",
       "      <td>UNIDADE PORTO VELHO</td>\n",
       "      <td>BENTO TRANSPORTES</td>\n",
       "      <td>6580</td>\n",
       "      <td>26733</td>\n",
       "      <td>RASTREADOR</td>\n",
       "      <td>PQY1245</td>\n",
       "      <td>&lt;NA&gt;</td>\n",
       "      <td>unidade.portovelho@transdesk.com.br</td>\n",
       "    </tr>\n",
       "    <tr>\n",
       "      <th>4</th>\n",
       "      <td>Stcoop</td>\n",
       "      <td>UNIDADE PORTO VELHO</td>\n",
       "      <td>BENTO TRANSPORTES</td>\n",
       "      <td>6580</td>\n",
       "      <td>26732</td>\n",
       "      <td>REPARAÇÃO A TERCEIROS</td>\n",
       "      <td>PQY1245</td>\n",
       "      <td>&lt;NA&gt;</td>\n",
       "      <td>unidade.portovelho@transdesk.com.br</td>\n",
       "    </tr>\n",
       "  </tbody>\n",
       "</table>\n",
       "</div>"
      ],
      "text/plain": [
       "  cooperativa              unidade            cliente  conjunto  coverage  \\\n",
       "0      Stcoop  UNIDADE PORTO VELHO  BENTO TRANSPORTES      6580     26735   \n",
       "1      Stcoop  UNIDADE PORTO VELHO  BENTO TRANSPORTES      6580     26735   \n",
       "2      Stcoop  UNIDADE PORTO VELHO  BENTO TRANSPORTES      6580     26734   \n",
       "3      Stcoop  UNIDADE PORTO VELHO  BENTO TRANSPORTES      6580     26733   \n",
       "4      Stcoop  UNIDADE PORTO VELHO  BENTO TRANSPORTES      6580     26732   \n",
       "\n",
       "                                 beneficio    placa motorista  \\\n",
       "0  REPARAÇÃO OU REPOSIÇÃO DO (SEMI)REBOQUE  APE3286      <NA>   \n",
       "1  REPARAÇÃO OU REPOSIÇÃO DO (SEMI)REBOQUE  APT8862      <NA>   \n",
       "2                      ASSESSORIA JURÍDICA  PQY1245      <NA>   \n",
       "3                               RASTREADOR  PQY1245      <NA>   \n",
       "4                    REPARAÇÃO A TERCEIROS  PQY1245      <NA>   \n",
       "\n",
       "                                e_mail  \n",
       "0  unidade.portovelho@transdesk.com.br  \n",
       "1  unidade.portovelho@transdesk.com.br  \n",
       "2  unidade.portovelho@transdesk.com.br  \n",
       "3  unidade.portovelho@transdesk.com.br  \n",
       "4  unidade.portovelho@transdesk.com.br  "
      ]
     },
     "execution_count": 4,
     "metadata": {},
     "output_type": "execute_result"
    }
   ],
   "source": [
    "df.head()"
   ]
  },
  {
   "cell_type": "markdown",
   "metadata": {},
   "source": [
    "analisando unidade campo grande"
   ]
  },
  {
   "cell_type": "code",
   "execution_count": null,
   "metadata": {},
   "outputs": [],
   "source": [
    "df_beneficios = df.groupby(['unidade','beneficio']).agg(\n",
    "    quantidade_placas = ('placa','count'),\n",
    "    quantidade_motoristas = ('motorista','count')\n",
    ").reset_index()\n",
    "\n",
    "df_analise = df_beneficios[df_beneficios['quantidade_placas']>df_beneficios['quantidade_motoristas']]\n",
    "\n"
   ]
  },
  {
   "cell_type": "code",
   "execution_count": null,
   "metadata": {},
   "outputs": [],
   "source": [
    "df_segurodevida = df_beneficios[df_beneficios['beneficio']=='SEGURO DE VIDA']\n",
    "\n",
    "file_path = r'C:\\Users\\raphael.almeida\\Documents\\Projetos\\Seguro de Vida Motorista\\Seguro_de_vida.xlsx'\n",
    "\n",
    "df_segurodevida.to_excel(file_path, engine='openpyxl', index=False)"
   ]
  },
  {
   "cell_type": "code",
   "execution_count": 17,
   "metadata": {},
   "outputs": [],
   "source": [
    "\n",
    "\n",
    "file_path = r'C:\\Users\\raphael.almeida\\Documents\\Projetos\\Seguro de Vida Motorista\\beneficios_geral.xlsx'\n",
    "\n",
    "df.to_excel(file_path, engine='openpyxl', index=False)"
   ]
  },
  {
   "cell_type": "code",
   "execution_count": 9,
   "metadata": {},
   "outputs": [],
   "source": [
    "df_unidemail = df.groupby(['unidade', 'e_mail']).agg(\n",
    "    placas=('placa', 'count'),\n",
    "    motoristas=('motorista', 'count')\n",
    ").reset_index()\n",
    "\n",
    "\n",
    "df_unidemail_filtered = df_unidemail[df_unidemail['placas']>df_unidemail['motoristas']]\n",
    "\n",
    "df_unidemail_filtered_test = df_unidemail_filtered.head() #ALTEREI PARA TESTE\n",
    "\n"
   ]
  },
  {
   "cell_type": "code",
   "execution_count": null,
   "metadata": {},
   "outputs": [],
   "source": [
    "#-----------------LOAD\n",
    "#Function to send e-mails\n",
    "\n",
    "def enviar_email(p_email, p_unidade, p_placas, p_motoristas):    \n",
    "    outlook = win32.Dispatch('outlook.application')  #integrating python with outlook \n",
    "\n",
    "    #creating e-mail variable to use\n",
    "    email = outlook.CreateItem(0)\n",
    "\n",
    "    #configuring the e-mail - ALTEREI PARA TESTE\n",
    "    email.To = \"dados13@grupounus.com.br; dados03@grupounus.com.br\"\n",
    "    email.Subject = \"[CADASTRAMENTO DE MOTORISTAS] - Análise de Dados\"\n",
    "    email.HTMLBody = f\"\"\"\n",
    "    <p>Prezado(a),<p/>\n",
    "\n",
    "    <p>A unidade {p_unidade}, correspondente ao e-mail {p_email}, possui pendências de cadastramento de motoristas por placa:\n",
    "\n",
    "    <p>Número de placas cadastradas: {p_placas}\n",
    "    Número de motoristas cadastrados: {p_motoristas}<p/>\n",
    "\n",
    "    <p>Favor, cadastrar as placas remanescentes para cômputo na base de dados da empresa, obrigado!<p/>\n",
    "\n",
    "    <p>Atenciosamente,<p/>\n",
    "\n",
    "    <p>Equipe Análise de Dados - Grupo Unus<p/>\n",
    "\n",
    "    <p>(<i>Este é um e-mail automático, por favor não responda<i/>)<p/>\n",
    " \n",
    "    \"\"\"\n",
    "\n",
    "    email.Send()\n",
    "\n",
    "    print(\"Email enviado\")"
   ]
  },
  {
   "cell_type": "code",
   "execution_count": null,
   "metadata": {},
   "outputs": [
    {
     "name": "stdout",
     "output_type": "stream",
     "text": [
      "Email enviado\n",
      "e_mail:ENVIADO PRA GENTE TESTE/unidade:TS CONSULTORIA EM TRANSPORTES LTDA/placas:939/motoristas:218\n",
      "Email enviado\n",
      "e_mail:ENVIADO PRA GENTE TESTE/unidade:UNIDADE ARACAJU/placas:14855/motoristas:1558\n",
      "Email enviado\n",
      "e_mail:ENVIADO PRA GENTE TESTE/unidade:UNIDADE ARACAJU/placas:14855/motoristas:1558\n",
      "Email enviado\n",
      "e_mail:ENVIADO PRA GENTE TESTE/unidade:UNIDADE ARACAJU/placas:14855/motoristas:1558\n",
      "Email enviado\n",
      "e_mail:ENVIADO PRA GENTE TESTE/unidade:UNIDADE CAMPO GRANDE/placas:2123/motoristas:110\n"
     ]
    }
   ],
   "source": [
    "\n",
    "df_numeros = df_unidemail_filtered.groupby(['unidade']).agg(\n",
    "    qtd_placas=('placas', 'sum'),\n",
    "    qtd_motoristas=('motoristas', 'sum')\n",
    ").reset_index()\n",
    "\n",
    "for idx, row in df_unidemail_filtered_test.iterrows():\n",
    "    iEmail = row['e_mail']\n",
    "    iUnidade = row['unidade']\n",
    "\n",
    "    unidade_info = df_numeros.loc[df_numeros['unidade'] == iUnidade].iloc[0]\n",
    "\n",
    "    iQtdPlacas = unidade_info['qtd_placas']\n",
    "    iQtdMotoristas = unidade_info['qtd_motoristas']\n",
    "\n",
    "    # if __name__==\"__main__\":\n",
    "    #     enviar_email(iEmail, iUnidade, iQtdPlacas, iQtdMotoristas)\n",
    "\n",
    "    \n",
    "    print(f\"e_mail:ENVIADO PRA GENTE TESTE/unidade:{iUnidade}/placas:{iQtdPlacas}/motoristas:{iQtdMotoristas}\")\n",
    "\n",
    "\n",
    "        "
   ]
  },
  {
   "cell_type": "code",
   "execution_count": null,
   "metadata": {},
   "outputs": [],
   "source": [
    "\n",
    "\n",
    "path_to_save = r'C:\\Users\\raphael.almeida\\Documents\\Projetos\\Seguro de Vida Motorista'\n",
    "file_name = 'Cobertura de Seguros Motoristas.xlsx'\n",
    "final_path = os.path.join(path_to_save, file_name)\n",
    "os.remove(final_path)\n",
    "df.to_excel(final_path, engine='openpyxl', index = False)"
   ]
  }
 ],
 "metadata": {
  "kernelspec": {
   "display_name": "env2",
   "language": "python",
   "name": "python3"
  },
  "language_info": {
   "codemirror_mode": {
    "name": "ipython",
    "version": 3
   },
   "file_extension": ".py",
   "mimetype": "text/x-python",
   "name": "python",
   "nbconvert_exporter": "python",
   "pygments_lexer": "ipython3",
   "version": "3.12.4"
  }
 },
 "nbformat": 4,
 "nbformat_minor": 2
}
