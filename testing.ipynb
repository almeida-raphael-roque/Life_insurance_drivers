{
 "cells": [
  {
   "cell_type": "code",
   "execution_count": 33,
   "metadata": {},
   "outputs": [],
   "source": [
    "import pandas as pd\n",
    "import awswrangler as awr\n",
    "import openpyxl\n",
    "import os\n",
    "import shutil\n",
    "import unicodedata\n",
    "import win32com.client as win32\n",
    "\n",
    "#-----------------EXTRACT\n",
    "path_to_query = r\"C:\\Users\\raphael.almeida\\Documents\\Projetos\\Seguro de Vida Motorista\\listagem_mestra_ajustada.sql\"\n",
    "\n",
    "with open (path_to_query,'r') as reading:\n",
    "    query_readed = reading.read()\n",
    "\n",
    "df = awr.athena.read_sql_query(query_readed,'silver')"
   ]
  },
  {
   "cell_type": "code",
   "execution_count": 34,
   "metadata": {},
   "outputs": [],
   "source": [
    "#-----------------TRANSFORM\n",
    "#adding empty e-mails with the e-mail common pattern\n",
    "row = ((df['e_mail'] == \"\") | (df['e_mail'].isnull())) & df['unidade'].str.contains('UNIDADE ')\n",
    "df.loc[row, 'e_mail'] = 'unidade.' + df.loc[row, 'unidade'].str.replace('UNIDADE ', '').str.lower() + '@transdesk.com.br'\n"
   ]
  },
  {
   "cell_type": "code",
   "execution_count": 35,
   "metadata": {},
   "outputs": [],
   "source": [
    "#removing empty spaces\n",
    "df['e_mail'] = df['e_mail'].str.replace(' ','')\n",
    "\n",
    "#removing diacritics with unicodedata\n",
    "def remove_diacritics (texto):\n",
    "    if isinstance(texto,str):\n",
    "        return ''.join(c for c in unicodedata.normalize('NFKD',texto) if not unicodedata.combining(c))\n",
    "    return texto\n",
    "\n",
    "df['e_mail'] = df['e_mail'].apply(remove_diacritics)\n",
    "\n",
    "df = df.reset_index(drop=True)\n"
   ]
  },
  {
   "cell_type": "code",
   "execution_count": 36,
   "metadata": {},
   "outputs": [
    {
     "data": {
      "text/plain": [
       "8828"
      ]
     },
     "execution_count": 36,
     "metadata": {},
     "output_type": "execute_result"
    }
   ],
   "source": [
    "len(df)"
   ]
  },
  {
   "cell_type": "markdown",
   "metadata": {},
   "source": [
    "base_analise"
   ]
  },
  {
   "cell_type": "code",
   "execution_count": null,
   "metadata": {},
   "outputs": [],
   "source": [
    "\n",
    "#excluir coluna de e-mail pois está diferenciando na análise\n",
    "#df = df.drop('e_mail', axis=1)\n",
    "df = df.drop_duplicates()\n",
    "\n",
    "#pegar apenas os conjuntos obrigatorios de seguro de vida\n",
    "beneficios_conjuntos = df.groupby(['conjunto', 'cooperativa'])['benefits_id'].unique()\n",
    "conjuntos_validos = beneficios_conjuntos[(beneficios_conjuntos.apply(lambda x: {2,6}.issubset((x))))|\n",
    "                                         (beneficios_conjuntos.apply(lambda x: {24,28}.issubset((x))))|\n",
    "                                         (beneficios_conjuntos.apply(lambda x: {40,44}.issubset((x))))].index\n",
    "\n",
    "df_obrigatorio = df[df.set_index(['conjunto','cooperativa']).index.isin(conjuntos_validos)].copy()\n",
    "\n",
    "#criar colunas para posterior agregação\n",
    "df_obrigatorio['casco'] = df_obrigatorio['benefits_id'].apply(lambda x: x if (x == 2 or x == 24 or x == 40) else pd.NA)\n",
    "df_obrigatorio['seg_vida'] = df_obrigatorio['benefits_id'].apply(lambda x: x if (x==6 or x==28 or x==44) else pd.NA)\n",
    "\n",
    "#filtrando apenas os que fazem sentido para a análise (casco e seguro de vida)\n",
    "df_obrigatorio_filtrado = df_obrigatorio[df_obrigatorio['benefits_id'].isin([2,6,24,28,40,44])]"
   ]
  },
  {
   "cell_type": "code",
   "execution_count": 37,
   "metadata": {},
   "outputs": [
    {
     "data": {
      "text/html": [
       "<div>\n",
       "<style scoped>\n",
       "    .dataframe tbody tr th:only-of-type {\n",
       "        vertical-align: middle;\n",
       "    }\n",
       "\n",
       "    .dataframe tbody tr th {\n",
       "        vertical-align: top;\n",
       "    }\n",
       "\n",
       "    .dataframe thead th {\n",
       "        text-align: right;\n",
       "    }\n",
       "</style>\n",
       "<table border=\"1\" class=\"dataframe\">\n",
       "  <thead>\n",
       "    <tr style=\"text-align: right;\">\n",
       "      <th></th>\n",
       "      <th>cooperativa</th>\n",
       "      <th>unidade</th>\n",
       "      <th>cliente</th>\n",
       "      <th>matricula</th>\n",
       "      <th>conjunto</th>\n",
       "      <th>coverage</th>\n",
       "      <th>beneficio</th>\n",
       "      <th>motorista</th>\n",
       "      <th>id_placa</th>\n",
       "      <th>placa</th>\n",
       "      <th>...</th>\n",
       "      <th>benefits_id</th>\n",
       "      <th>categoria</th>\n",
       "      <th>tipo_categoria</th>\n",
       "      <th>faixa_valor</th>\n",
       "      <th>tabela_ativa</th>\n",
       "      <th>tipo_veiculo</th>\n",
       "      <th>tipo</th>\n",
       "      <th>e_mail</th>\n",
       "      <th>casco</th>\n",
       "      <th>seg_vida</th>\n",
       "    </tr>\n",
       "  </thead>\n",
       "  <tbody>\n",
       "  </tbody>\n",
       "</table>\n",
       "<p>0 rows × 27 columns</p>\n",
       "</div>"
      ],
      "text/plain": [
       "Empty DataFrame\n",
       "Columns: [cooperativa, unidade, cliente, matricula, conjunto, coverage, beneficio, motorista, id_placa, placa, chassi, renavam, ativacao, inicio_vig, fim_vig, status, status_coverage, benefits_id, categoria, tipo_categoria, faixa_valor, tabela_ativa, tipo_veiculo, tipo, e_mail, casco, seg_vida]\n",
       "Index: []\n",
       "\n",
       "[0 rows x 27 columns]"
      ]
     },
     "execution_count": 37,
     "metadata": {},
     "output_type": "execute_result"
    }
   ],
   "source": [
    "df_obrigatorio_filtrado.head()"
   ]
  },
  {
   "cell_type": "markdown",
   "metadata": {},
   "source": [
    "conjuntos_analise"
   ]
  },
  {
   "cell_type": "code",
   "execution_count": 17,
   "metadata": {},
   "outputs": [],
   "source": [
    "\n",
    "\n",
    "df_analise = df_obrigatorio_filtrado.groupby(['cooperativa','unidade','matricula','conjunto','e_mail']).agg(\n",
    "    qtd_seg_vida = ('seg_vida', 'count'),\n",
    "    qtd_casco = ('casco', 'count'),\n",
    "    qtd_motorista = ('motorista', 'count')\n",
    ").reset_index()\n",
    "\n",
    "#df_analise.drop_duplicates('e_mail', keep='first')\n",
    "df_analise.sort_values(by='conjunto', ascending=False)\n",
    "\n",
    "df_analysis=df_analise[(df_analise['qtd_motorista']!=df_analise['qtd_casco'])|\n",
    "                      (df_analise['qtd_motorista']!=df_analise['qtd_seg_vida'])|\n",
    "                      (df_analise['qtd_casco']!=df_analise['qtd_seg_vida'])]\n",
    "\n",
    "df_analysis2 = df_analysis[df_analysis['qtd_seg_vida']<df_analysis['qtd_casco']]\n",
    "df_analysis2.head()\n",
    "#df_analysis = df_analise[row, ['cooperativa','unidade','matricula','conjunto','qtd_motoristas','qtd_cascos','qtd_segvida']]\n",
    "\n",
    "file_path  = r'C:\\Users\\raphael.almeida\\Documents\\Projetos\\Seguro de Vida Motorista\\conjuntos_analise.xlsx'\n",
    "df_analysis2.to_excel(file_path, engine = 'openpyxl', index = False)\n"
   ]
  },
  {
   "cell_type": "markdown",
   "metadata": {},
   "source": [
    "parametros de e-mail"
   ]
  },
  {
   "cell_type": "code",
   "execution_count": 20,
   "metadata": {},
   "outputs": [],
   "source": [
    "#-----------------LOAD\n",
    "#Function to send e-mails\n",
    "\n",
    "def enviar_email(p_email, p_unidade, p_empresa, tabela_html):    \n",
    "    outlook = win32.Dispatch('outlook.application')  #integrating python with outlook \n",
    "\n",
    "    #creating e-mail variable to use\n",
    "    email = outlook.CreateItem(0)\n",
    "\n",
    "    #configuring the e-mail - ALTEREI PARA TESTE\n",
    "    email.To = p_email\n",
    "    email.Subject = \"[PENDÊNCIA DE SEGURO DE VIDA - MOTORISTAS] - Análise de Dados\"\n",
    "    email.HTMLBody = f\"\"\"\n",
    "    <p>Prezado(a),<p/>\n",
    "\n",
    "    <p>A {p_unidade} ({p_empresa}) possui pendências de cadastramento de seguro de vida para motoristas.<p/>\n",
    "\n",
    "    <p>A quantidade de coberturas de cavalo é maior do que a quantidade de coberturas de seguro de vida (motoristas).<p/>\n",
    "\n",
    "    <p>{tabela_html}<p/>\n",
    "\n",
    "    <p>Favor, cadastrar os seguros de vida remanescentes para cômputo na base de dados da empresa, obrigado!<p/>\n",
    "\n",
    "    <p>Atenciosamente,<p/>\n",
    "\n",
    "    <p>Equipe Análise de Dados - Grupo Unus<p/>\n",
    "\n",
    "    <p>(<i>Este é um e-mail automático, por favor não responda<i/>)<p/>\n",
    " \n",
    "    \"\"\"\n",
    "\n",
    "    email.Send()\n",
    "\n",
    "    print(\"Email enviado\")"
   ]
  },
  {
   "cell_type": "markdown",
   "metadata": {},
   "source": [
    "função envio email real"
   ]
  },
  {
   "cell_type": "code",
   "execution_count": null,
   "metadata": {},
   "outputs": [],
   "source": [
    "df_analysis3 = df_analysis2.drop('qtd_motorista', axis=1)\n",
    "df_email = df_analysis3[['cooperativa','unidade','e_mail']].drop_duplicates('e_mail', keep='first')\n",
    "\n",
    "for _, row in df_email.iterrows():\n",
    "    iEmail = row['e_mail']\n",
    "    iUnidade = row['unidade']\n",
    "    iCooperativa = row['cooperativa']\n",
    "\n",
    "    df_filtrado = df_analysis3[(df_analysis3['unidade']==iUnidade) & (df_analysis3['cooperativa']==iCooperativa)]\n",
    "\n",
    "    if df_filtrado.empty:\n",
    "        print(f\"Nenhum dado encontrado para {iUnidade} - {iCooperativa}. E-mail não enviado.\")\n",
    "        continue  \n",
    "\n",
    "    df_tabela = df_filtrado.to_html(index=False, border=1)\n",
    "\n",
    "    # if __name__ == '__main__':\n",
    "    #     enviar_email(iEmail, iUnidade, iCooperativa, df_tabela)\n",
    "\n",
    "    print(f\"E-mail enviado para {iEmail}: {iUnidade}({iCooperativa})\")\n",
    "\n"
   ]
  },
  {
   "cell_type": "markdown",
   "metadata": {},
   "source": [
    "função envio e-mail teste"
   ]
  },
  {
   "cell_type": "code",
   "execution_count": 23,
   "metadata": {},
   "outputs": [
    {
     "name": "stdout",
     "output_type": "stream",
     "text": [
      "Email enviado\n",
      "E-mail enviado para dados13@grupounus.com.br: UNIDADE CASCAVEL(Stcoop)\n",
      "Email enviado\n",
      "E-mail enviado para dados13@grupounus.com.br: UNIDADE CAMPO GRANDE(Viavante)\n",
      "Email enviado\n",
      "E-mail enviado para dados13@grupounus.com.br: UNIDADE CURITIBA(Viavante)\n",
      "Email enviado\n",
      "E-mail enviado para dados13@grupounus.com.br: UNIDADE DOURADOS(Viavante)\n",
      "Email enviado\n",
      "E-mail enviado para dados13@grupounus.com.br: UNIDADE FEIRA DE SANTANA(Viavante)\n",
      "Email enviado\n",
      "E-mail enviado para dados13@grupounus.com.br: UNIDADE ITAPEJARA(Viavante)\n",
      "Email enviado\n",
      "E-mail enviado para dados13@grupounus.com.br: UNIDADE JOINVILLE(Viavante)\n",
      "Email enviado\n",
      "E-mail enviado para dados13@grupounus.com.br: UNIDADE LONDRINA(Viavante)\n",
      "Email enviado\n",
      "E-mail enviado para dados13@grupounus.com.br: UNIDADE MARINGÁ(Viavante)\n"
     ]
    }
   ],
   "source": [
    "df_analysis3 = df_analysis2.drop('qtd_motorista', axis=1)\n",
    "df_analysis3['e_mail']='dados13@grupounus.com.br'\n",
    "df_email = df_analysis3[['cooperativa','unidade','e_mail']].drop_duplicates('unidade', keep='first')\n",
    "\n",
    "for _, row in df_email.iterrows():\n",
    "    iEmail = row['e_mail']\n",
    "    iUnidade = row['unidade']\n",
    "    iCooperativa = row['cooperativa']\n",
    "\n",
    "    df_filtrado = df_analysis3[(df_analysis3['unidade']==iUnidade) & (df_analysis3['cooperativa']==iCooperativa)]\n",
    "\n",
    "    if df_filtrado.empty:\n",
    "        print(f\"Nenhum dado encontrado para {iUnidade} - {iCooperativa}. E-mail não enviado.\")\n",
    "        continue  \n",
    "\n",
    "    df_tabela = df_filtrado.to_html(index=False, border=1, classes = \"tabela\")\n",
    "\n",
    "    df_tabela = f\"\"\"\n",
    "    <style>\n",
    "        .tabela {{\n",
    "            width: 100%;\n",
    "            border-collapse: collapse;\n",
    "        }}\n",
    "        .tabela th, .tabela td {{\n",
    "            text-align: center;  \n",
    "            padding: 8px;\n",
    "            border: 1px solid black;\n",
    "        }}\n",
    "    </style>\n",
    "    {df_tabela}\n",
    "    \"\"\"\n",
    "\n",
    "    if __name__ == '__main__':\n",
    "        enviar_email(iEmail, iUnidade, iCooperativa, df_tabela)\n",
    "\n",
    "    print(f\"E-mail enviado para {iEmail}: {iUnidade}({iCooperativa})\")\n"
   ]
  },
  {
   "cell_type": "markdown",
   "metadata": {},
   "source": [
    "conjuntos_aberto"
   ]
  },
  {
   "cell_type": "code",
   "execution_count": 43,
   "metadata": {},
   "outputs": [],
   "source": [
    "df_obrigatorio_filtrado = df_obrigatorio[df_obrigatorio['benefits_id'].isin([2,6,24,28,40,44])]\n",
    "\n",
    "df_open = df_obrigatorio_filtrado.sort_values(by='conjunto', ascending=False)\n",
    "#df_open = df_open[['cooperativa','unidade', 'cliente', 'matricula','conjunto','coverage','beneficio', 'motorista', 'placa', 'casco', 'seg_vida', 'tipo_veiculo', 'benefits_id']] \n",
    "file_path  = r'C:\\Users\\raphael.almeida\\Documents\\Projetos\\Seguro de Vida Motorista\\conjuntos_aberto.xlsx'\n",
    "df_open.to_excel(file_path, engine = 'openpyxl', index = False)"
   ]
  },
  {
   "cell_type": "code",
   "execution_count": null,
   "metadata": {},
   "outputs": [],
   "source": [
    "\n",
    "\n",
    "path_to_save = r'C:\\Users\\raphael.almeida\\Documents\\Projetos\\Seguro de Vida Motorista'\n",
    "file_name = 'Cobertura de Seguros Motoristas.xlsx'\n",
    "final_path = os.path.join(path_to_save, file_name)\n",
    "os.remove(final_path)\n",
    "df.to_excel(final_path, engine='openpyxl', index = False)"
   ]
  }
 ],
 "metadata": {
  "kernelspec": {
   "display_name": "env",
   "language": "python",
   "name": "python3"
  },
  "language_info": {
   "codemirror_mode": {
    "name": "ipython",
    "version": 3
   },
   "file_extension": ".py",
   "mimetype": "text/x-python",
   "name": "python",
   "nbconvert_exporter": "python",
   "pygments_lexer": "ipython3",
   "version": "3.12.4"
  }
 },
 "nbformat": 4,
 "nbformat_minor": 2
}
