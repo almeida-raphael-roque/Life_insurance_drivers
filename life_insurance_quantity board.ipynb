{
 "cells": [
  {
   "cell_type": "code",
   "execution_count": 1,
   "metadata": {},
   "outputs": [],
   "source": [
    "import pandas as pd\n",
    "import awswrangler as awr\n",
    "import openpyxl\n"
   ]
  },
  {
   "cell_type": "code",
   "execution_count": 2,
   "metadata": {},
   "outputs": [],
   "source": [
    "\n",
    "\n",
    "path_to_query = r\"C:\\Users\\raphael.almeida\\Documents\\Projetos\\Seguro de Vida Motorista\\listagem_mestra_ajustada.sql\"\n",
    "\n",
    "with open (path_to_query,'r') as reading:\n",
    "    query_readed = reading.read()\n",
    "\n",
    "df = awr.athena.read_sql_query(query_readed,'silver')"
   ]
  },
  {
   "cell_type": "code",
   "execution_count": 23,
   "metadata": {},
   "outputs": [
    {
     "name": "stdout",
     "output_type": "stream",
     "text": [
      "<class 'pandas.core.frame.DataFrame'>\n",
      "RangeIndex: 130930 entries, 0 to 130929\n",
      "Data columns (total 25 columns):\n",
      " #   Column           Non-Null Count   Dtype \n",
      "---  ------           --------------   ----- \n",
      " 0   cooperativa      130930 non-null  string\n",
      " 1   unidade          130926 non-null  string\n",
      " 2   cliente          130930 non-null  string\n",
      " 3   matricula        130930 non-null  Int64 \n",
      " 4   conjunto         130930 non-null  Int64 \n",
      " 5   coverage         130930 non-null  Int64 \n",
      " 6   beneficio        130930 non-null  string\n",
      " 7   motorista        13578 non-null   string\n",
      " 8   id_placa         88154 non-null   Int64 \n",
      " 9   placa            107910 non-null  string\n",
      " 10  chassi           88154 non-null   string\n",
      " 11  renavam          88141 non-null   string\n",
      " 12  ativacao         130924 non-null  object\n",
      " 13  inicio_vig       130924 non-null  object\n",
      " 14  fim_vig          130924 non-null  object\n",
      " 15  status           130930 non-null  string\n",
      " 16  status_coverage  130930 non-null  string\n",
      " 17  benefits_id      130930 non-null  Int64 \n",
      " 18  categoria        130930 non-null  string\n",
      " 19  tipo_categoria   130930 non-null  string\n",
      " 20  faixa_valor      130930 non-null  string\n",
      " 21  tabela_ativa     130930 non-null  string\n",
      " 22  tipo_veiculo     93643 non-null   string\n",
      " 23  tipo             130930 non-null  string\n",
      " 24  e_mail           24669 non-null   string\n",
      "dtypes: Int64(5), object(3), string(17)\n",
      "memory usage: 25.6+ MB\n"
     ]
    },
    {
     "data": {
      "text/plain": [
       "130930"
      ]
     },
     "execution_count": 23,
     "metadata": {},
     "output_type": "execute_result"
    }
   ],
   "source": [
    "df.info()\n",
    "len(df)"
   ]
  },
  {
   "cell_type": "markdown",
   "metadata": {},
   "source": [
    "placas totais"
   ]
  },
  {
   "cell_type": "code",
   "execution_count": 21,
   "metadata": {},
   "outputs": [
    {
     "data": {
      "text/plain": [
       "31621"
      ]
     },
     "execution_count": 21,
     "metadata": {},
     "output_type": "execute_result"
    }
   ],
   "source": [
    "df['placa'].drop_duplicates().count()"
   ]
  },
  {
   "cell_type": "markdown",
   "metadata": {},
   "source": [
    "seguro de vida geral"
   ]
  },
  {
   "cell_type": "code",
   "execution_count": 19,
   "metadata": {},
   "outputs": [
    {
     "data": {
      "text/plain": [
       "12144"
      ]
     },
     "execution_count": 19,
     "metadata": {},
     "output_type": "execute_result"
    }
   ],
   "source": [
    "df_seguro_de_vida = df[df['benefits_id'].isin([6,28,44])]\n",
    "len(df_seguro_de_vida)\n",
    "\n",
    "#print(len(df_seguro_de_vida))\n",
    "#df_seguro_de_vida.head()\n",
    "#print(len(df_seguro_de_vida.drop_duplicates(subset='placa')))\n",
    "#df_seguro_de_vida['placa'].drop_duplicates().count()"
   ]
  },
  {
   "cell_type": "markdown",
   "metadata": {},
   "source": [
    "seguro de vida de motorista"
   ]
  },
  {
   "cell_type": "code",
   "execution_count": 25,
   "metadata": {},
   "outputs": [
    {
     "data": {
      "text/plain": [
       "9625"
      ]
     },
     "execution_count": 25,
     "metadata": {},
     "output_type": "execute_result"
    }
   ],
   "source": [
    "df_seguro_de_vida_motorista = df_seguro_de_vida[df_seguro_de_vida['faixa_valor'].str.contains('MOTORISTA', na=False)]\n",
    "len(df_seguro_de_vida_motorista)"
   ]
  },
  {
   "cell_type": "code",
   "execution_count": 27,
   "metadata": {},
   "outputs": [
    {
     "data": {
      "text/plain": [
       "17148"
      ]
     },
     "execution_count": 27,
     "metadata": {},
     "output_type": "execute_result"
    }
   ],
   "source": [
    "df_cascos_veiculo = df[df['benefits_id'].isin([2, 24, 40])]\n",
    "len(df_cascos_veiculo)"
   ]
  },
  {
   "cell_type": "markdown",
   "metadata": {},
   "source": [
    "base_analise"
   ]
  },
  {
   "cell_type": "code",
   "execution_count": 4,
   "metadata": {},
   "outputs": [],
   "source": [
    "\n",
    "#excluir coluna de e-mail pois está diferenciando na análise\n",
    "#df = df.drop('e_mail', axis=1)\n",
    "df = df.drop_duplicates()\n",
    "\n",
    "#pegar apenas os conjuntos obrigatorios de seguro de vida\n",
    "beneficios_conjuntos = df.groupby(['conjunto', 'cooperativa'])['benefits_id'].unique()\n",
    "conjuntos_validos = beneficios_conjuntos[(beneficios_conjuntos.apply(lambda x: {2,6}.issubset((x))))|\n",
    "                                         (beneficios_conjuntos.apply(lambda x: {24,28}.issubset((x))))|\n",
    "                                         (beneficios_conjuntos.apply(lambda x: {40,44}.issubset((x))))].index\n",
    "\n",
    "df_obrigatorio = df[df.set_index(['conjunto','cooperativa']).index.isin(conjuntos_validos)].copy()\n",
    "\n",
    "#criar colunas para posterior agregação\n",
    "df_obrigatorio['casco'] = df_obrigatorio['benefits_id'].apply(lambda x: x if (x == 2 or x == 24 or x == 40) else pd.NA)\n",
    "#df_obrigatorio['seg_vida'] = df_obrigatorio['benefits_id'].apply(lambda x: x if (x==6 or x==28 or x==44) else pd.NA)\n",
    "\n",
    "\n",
    "df_obrigatorio['seg_vida_motorista'] = df_obrigatorio.apply(lambda row: \n",
    "                                                  row['benefits_id'] if (row['benefits_id'] in [6,28,44] and 'MOTORISTA' in row['faixa_valor'])\n",
    "else pd.NA, axis=1)\n",
    "\n",
    "df_obrigatorio['seg_vida_geral'] = df_obrigatorio.apply(lambda row: \n",
    "                                                  row['benefits_id'] if (row['benefits_id'] in [6,28,44] and 'MOTORISTA' not in row['faixa_valor'])\n",
    "else pd.NA, axis=1)\n",
    "\n",
    "#filtrando apenas os que fazem sentido para a análise (casco e seguro de vida)\n",
    "df_obrigatorio_filtrado = df_obrigatorio[df_obrigatorio['benefits_id'].isin([2,6,24,28,40,44])]"
   ]
  },
  {
   "cell_type": "code",
   "execution_count": 5,
   "metadata": {},
   "outputs": [
    {
     "data": {
      "text/html": [
       "<div>\n",
       "<style scoped>\n",
       "    .dataframe tbody tr th:only-of-type {\n",
       "        vertical-align: middle;\n",
       "    }\n",
       "\n",
       "    .dataframe tbody tr th {\n",
       "        vertical-align: top;\n",
       "    }\n",
       "\n",
       "    .dataframe thead th {\n",
       "        text-align: right;\n",
       "    }\n",
       "</style>\n",
       "<table border=\"1\" class=\"dataframe\">\n",
       "  <thead>\n",
       "    <tr style=\"text-align: right;\">\n",
       "      <th></th>\n",
       "      <th>cooperativa</th>\n",
       "      <th>unidade</th>\n",
       "      <th>cliente</th>\n",
       "      <th>matricula</th>\n",
       "      <th>conjunto</th>\n",
       "      <th>coverage</th>\n",
       "      <th>beneficio</th>\n",
       "      <th>motorista</th>\n",
       "      <th>id_placa</th>\n",
       "      <th>placa</th>\n",
       "      <th>...</th>\n",
       "      <th>categoria</th>\n",
       "      <th>tipo_categoria</th>\n",
       "      <th>faixa_valor</th>\n",
       "      <th>tabela_ativa</th>\n",
       "      <th>tipo_veiculo</th>\n",
       "      <th>tipo</th>\n",
       "      <th>e_mail</th>\n",
       "      <th>casco</th>\n",
       "      <th>seg_vida_motorista</th>\n",
       "      <th>seg_vida_geral</th>\n",
       "    </tr>\n",
       "  </thead>\n",
       "  <tbody>\n",
       "    <tr>\n",
       "      <th>0</th>\n",
       "      <td>Stcoop</td>\n",
       "      <td>UNIDADE SINOP</td>\n",
       "      <td>FABIO TURRA JAEGER</td>\n",
       "      <td>21573</td>\n",
       "      <td>13608</td>\n",
       "      <td>84648</td>\n",
       "      <td>CASCO (VEÍCULO)</td>\n",
       "      <td>&lt;NA&gt;</td>\n",
       "      <td>17310</td>\n",
       "      <td>RLJ1C15</td>\n",
       "      <td>...</td>\n",
       "      <td>CAVALO</td>\n",
       "      <td>LC: 100% - CP: 4% - SCANIA - 2024 ATÉ 2021</td>\n",
       "      <td>De R$600.000,01 até R$625.000,00</td>\n",
       "      <td>S</td>\n",
       "      <td>Cavalo</td>\n",
       "      <td>RenovaÃ§Ã£o</td>\n",
       "      <td>&lt;NA&gt;</td>\n",
       "      <td>24</td>\n",
       "      <td>&lt;NA&gt;</td>\n",
       "      <td>&lt;NA&gt;</td>\n",
       "    </tr>\n",
       "    <tr>\n",
       "      <th>1</th>\n",
       "      <td>Stcoop</td>\n",
       "      <td>UNIDADE CASCAVEL</td>\n",
       "      <td>RICARDO ROSA AMORIM EIRELI</td>\n",
       "      <td>21578</td>\n",
       "      <td>13610</td>\n",
       "      <td>84655</td>\n",
       "      <td>CASCO (VEÍCULO)</td>\n",
       "      <td>&lt;NA&gt;</td>\n",
       "      <td>19062</td>\n",
       "      <td>QAY6H04</td>\n",
       "      <td>...</td>\n",
       "      <td>CAVALO</td>\n",
       "      <td>LC: 100% - CP: 4% - SCANIA - 2024 ATÉ 2021</td>\n",
       "      <td>De R$625.000,01 até R$650.000,00</td>\n",
       "      <td>S</td>\n",
       "      <td>Cavalo</td>\n",
       "      <td>RenovaÃ§Ã£o</td>\n",
       "      <td>&lt;NA&gt;</td>\n",
       "      <td>24</td>\n",
       "      <td>&lt;NA&gt;</td>\n",
       "      <td>&lt;NA&gt;</td>\n",
       "    </tr>\n",
       "    <tr>\n",
       "      <th>5</th>\n",
       "      <td>Stcoop</td>\n",
       "      <td>UNIDADE RONDONÓPOLIS</td>\n",
       "      <td>VILMAR ALEXANDRE DA SILVA TRANSPORTES</td>\n",
       "      <td>11931</td>\n",
       "      <td>13612</td>\n",
       "      <td>84672</td>\n",
       "      <td>SEGURO DE VIDA</td>\n",
       "      <td>VILMAR ALEXANDRE DA SILVA</td>\n",
       "      <td>&lt;NA&gt;</td>\n",
       "      <td>&lt;NA&gt;</td>\n",
       "      <td>...</td>\n",
       "      <td>PADRÃO</td>\n",
       "      <td>PADRÃO</td>\n",
       "      <td>MOTORISTA - Seguro de Vida via Rep. ou Rep. do...</td>\n",
       "      <td>N</td>\n",
       "      <td>&lt;NA&gt;</td>\n",
       "      <td>RenovaÃ§Ã£o</td>\n",
       "      <td>&lt;NA&gt;</td>\n",
       "      <td>&lt;NA&gt;</td>\n",
       "      <td>28</td>\n",
       "      <td>&lt;NA&gt;</td>\n",
       "    </tr>\n",
       "    <tr>\n",
       "      <th>8</th>\n",
       "      <td>Stcoop</td>\n",
       "      <td>UNIDADE CURITIBA</td>\n",
       "      <td>A. SAID TRANSPORTES LTDA - ME</td>\n",
       "      <td>6400</td>\n",
       "      <td>13616</td>\n",
       "      <td>84691</td>\n",
       "      <td>CASCO (VEÍCULO)</td>\n",
       "      <td>&lt;NA&gt;</td>\n",
       "      <td>18914</td>\n",
       "      <td>BDV1A44</td>\n",
       "      <td>...</td>\n",
       "      <td>CAVALO</td>\n",
       "      <td>LC: 100% - CP: 4% - DAF E MAN - 2024 ATÉ 2019</td>\n",
       "      <td>De R$350.000,01 até R$375.000,00</td>\n",
       "      <td>S</td>\n",
       "      <td>Cavalo</td>\n",
       "      <td>RenovaÃ§Ã£o</td>\n",
       "      <td>&lt;NA&gt;</td>\n",
       "      <td>24</td>\n",
       "      <td>&lt;NA&gt;</td>\n",
       "      <td>&lt;NA&gt;</td>\n",
       "    </tr>\n",
       "    <tr>\n",
       "      <th>10</th>\n",
       "      <td>Stcoop</td>\n",
       "      <td>UNIDADE ITAJAI</td>\n",
       "      <td>SANDRO LUIZ VIEIRA</td>\n",
       "      <td>2312</td>\n",
       "      <td>13618</td>\n",
       "      <td>84709</td>\n",
       "      <td>SEGURO DE VIDA</td>\n",
       "      <td>SANDRO LUIZ VIEIRA</td>\n",
       "      <td>&lt;NA&gt;</td>\n",
       "      <td>&lt;NA&gt;</td>\n",
       "      <td>...</td>\n",
       "      <td>PADRÃO</td>\n",
       "      <td>PADRÃO</td>\n",
       "      <td>MOTORISTA - Seguro de Vida via Rep. ou Rep. do...</td>\n",
       "      <td>N</td>\n",
       "      <td>&lt;NA&gt;</td>\n",
       "      <td>RenovaÃ§Ã£o</td>\n",
       "      <td>&lt;NA&gt;</td>\n",
       "      <td>&lt;NA&gt;</td>\n",
       "      <td>28</td>\n",
       "      <td>&lt;NA&gt;</td>\n",
       "    </tr>\n",
       "  </tbody>\n",
       "</table>\n",
       "<p>5 rows × 28 columns</p>\n",
       "</div>"
      ],
      "text/plain": [
       "   cooperativa               unidade                                cliente  \\\n",
       "0       Stcoop         UNIDADE SINOP                     FABIO TURRA JAEGER   \n",
       "1       Stcoop      UNIDADE CASCAVEL             RICARDO ROSA AMORIM EIRELI   \n",
       "5       Stcoop  UNIDADE RONDONÓPOLIS  VILMAR ALEXANDRE DA SILVA TRANSPORTES   \n",
       "8       Stcoop      UNIDADE CURITIBA          A. SAID TRANSPORTES LTDA - ME   \n",
       "10      Stcoop        UNIDADE ITAJAI                     SANDRO LUIZ VIEIRA   \n",
       "\n",
       "    matricula  conjunto  coverage        beneficio                  motorista  \\\n",
       "0       21573     13608     84648  CASCO (VEÍCULO)                       <NA>   \n",
       "1       21578     13610     84655  CASCO (VEÍCULO)                       <NA>   \n",
       "5       11931     13612     84672   SEGURO DE VIDA  VILMAR ALEXANDRE DA SILVA   \n",
       "8        6400     13616     84691  CASCO (VEÍCULO)                       <NA>   \n",
       "10       2312     13618     84709   SEGURO DE VIDA         SANDRO LUIZ VIEIRA   \n",
       "\n",
       "    id_placa    placa  ... categoria  \\\n",
       "0      17310  RLJ1C15  ...    CAVALO   \n",
       "1      19062  QAY6H04  ...    CAVALO   \n",
       "5       <NA>     <NA>  ...    PADRÃO   \n",
       "8      18914  BDV1A44  ...    CAVALO   \n",
       "10      <NA>     <NA>  ...    PADRÃO   \n",
       "\n",
       "                                   tipo_categoria  \\\n",
       "0      LC: 100% - CP: 4% - SCANIA - 2024 ATÉ 2021   \n",
       "1      LC: 100% - CP: 4% - SCANIA - 2024 ATÉ 2021   \n",
       "5                                          PADRÃO   \n",
       "8   LC: 100% - CP: 4% - DAF E MAN - 2024 ATÉ 2019   \n",
       "10                                         PADRÃO   \n",
       "\n",
       "                                          faixa_valor tabela_ativa  \\\n",
       "0                    De R$600.000,01 até R$625.000,00            S   \n",
       "1                    De R$625.000,01 até R$650.000,00            S   \n",
       "5   MOTORISTA - Seguro de Vida via Rep. ou Rep. do...            N   \n",
       "8                    De R$350.000,01 até R$375.000,00            S   \n",
       "10  MOTORISTA - Seguro de Vida via Rep. ou Rep. do...            N   \n",
       "\n",
       "   tipo_veiculo         tipo e_mail  casco seg_vida_motorista seg_vida_geral  \n",
       "0        Cavalo  RenovaÃ§Ã£o   <NA>     24               <NA>           <NA>  \n",
       "1        Cavalo  RenovaÃ§Ã£o   <NA>     24               <NA>           <NA>  \n",
       "5          <NA>  RenovaÃ§Ã£o   <NA>   <NA>                 28           <NA>  \n",
       "8        Cavalo  RenovaÃ§Ã£o   <NA>     24               <NA>           <NA>  \n",
       "10         <NA>  RenovaÃ§Ã£o   <NA>   <NA>                 28           <NA>  \n",
       "\n",
       "[5 rows x 28 columns]"
      ]
     },
     "execution_count": 5,
     "metadata": {},
     "output_type": "execute_result"
    }
   ],
   "source": [
    "df_obrigatorio_filtrado.head()"
   ]
  },
  {
   "cell_type": "code",
   "execution_count": 7,
   "metadata": {},
   "outputs": [
    {
     "data": {
      "text/plain": [
       "9611"
      ]
     },
     "execution_count": 7,
     "metadata": {},
     "output_type": "execute_result"
    }
   ],
   "source": [
    "df_obrigatorio_filtrado['seg_vida_motorista'].count()"
   ]
  },
  {
   "cell_type": "markdown",
   "metadata": {},
   "source": [
    "conjuntos_analise"
   ]
  },
  {
   "cell_type": "code",
   "execution_count": 14,
   "metadata": {},
   "outputs": [],
   "source": [
    "\n",
    "\n",
    "df_analise = df_obrigatorio_filtrado.groupby(['cooperativa','unidade','matricula','conjunto','e_mail']).agg(\n",
    "    qtd_seg_vida_motorista = ('seg_vida_motorista', 'count'),\n",
    "    qtd_casco = ('casco', 'count'),\n",
    "    qtd_seg_vida_geral = ('seg_vida_geral', 'count')\n",
    ").reset_index()\n",
    "\n",
    "#df_analise.drop_duplicates('e_mail', keep='first')\n",
    "df_analise.sort_values(by='conjunto', ascending=False)\n",
    "\n",
    "# df_analysis=df_analise[(df_analise['qtd_motorista']!=df_analise['qtd_casco'])|\n",
    "#                       (df_analise['qtd_motorista']!=df_analise['qtd_seg_vida'])|\n",
    "#                       (df_analise['qtd_casco']!=df_analise['qtd_seg_vida'])]\n",
    "\n",
    "df_analysis = df_analise[df_analise['qtd_seg_vida_motorista']<df_analise['qtd_casco']]\n",
    "\n",
    "#df_analysis = df_analise[row, ['cooperativa','unidade','matricula','conjunto','qtd_motoristas','qtd_cascos','qtd_segvida']]\n",
    "\n",
    "# file_path  = r'C:\\Users\\raphael.almeida\\Documents\\Projetos\\Seguro de Vida Motorista\\conjuntos_analise.xlsx'\n",
    "# df_analysis.to_excel(file_path, engine = 'openpyxl', index = False)\n",
    "\n",
    "# file_path  = r'C:\\Users\\raphael.almeida\\Documents\\Projetos\\Seguro de Vida Motorista\\conjuntos_variados.xlsx'\n",
    "# df_analise.to_excel(file_path, engine = 'openpyxl', index = False)\n",
    "\n"
   ]
  },
  {
   "cell_type": "markdown",
   "metadata": {},
   "source": [
    "parametros de e-mail"
   ]
  },
  {
   "cell_type": "code",
   "execution_count": 15,
   "metadata": {},
   "outputs": [],
   "source": [
    "#-----------------LOAD\n",
    "#Function to send e-mails\n",
    "\n",
    "#p_email,\n",
    "\n",
    "def enviar_email(p_unidade, p_empresa, tabela_html):    \n",
    "    outlook = win32.Dispatch('outlook.application')  #integrating python with outlook \n",
    "\n",
    "    #creating e-mail variable to use\n",
    "    email = outlook.CreateItem(0)\n",
    "\n",
    "    #configuring the e-mail - ALTEREI PARA TESTE\n",
    "    email.To = \"dados13@grupounus.com.br; suelen.martucci@transdesk.com.br\"\n",
    "    email.Subject = \"[PENDÊNCIA DE SEGURO DE VIDA - MOTORISTAS] - Análise de Dados\"\n",
    "    email.HTMLBody = f\"\"\"\n",
    "\n",
    "    <p>Prezado(a),</p>\n",
    "\n",
    "    <p>A {p_unidade} ({p_empresa}) possui pendências de cadastramento de seguro de vida <b>para motoristas</b>.</p>\n",
    "\n",
    "    <p>A quantidade de coberturas concernentes ao casco é maior do que a quantidade de coberturas de seguro de vida <b>para motoristas</b>.</p>\n",
    "\n",
    "    <p>{tabela_html}</p>\n",
    "\n",
    "    <p>Favor, cadastrar os seguros de vida <b>para motoristas</b> remanescentes para cômputo na base de dados da empresa, obrigado!</p>\n",
    "\n",
    "    <p>Atenciosamente,</p>\n",
    "\n",
    "    <p>Equipe Análise de Dados - Grupo Unus</p>\n",
    "\n",
    "    <p><i>Este é um e-mail automático, por favor não responda</i></p>\n",
    "\n",
    "    \"\"\"\n",
    "\n",
    "    email.Send()\n",
    "\n",
    "    print(\"Email enviado\")"
   ]
  },
  {
   "cell_type": "markdown",
   "metadata": {},
   "source": [
    "função envio email real"
   ]
  },
  {
   "cell_type": "code",
   "execution_count": null,
   "metadata": {},
   "outputs": [],
   "source": [
    "df_analysis3 = df_analysis2.drop('qtd_motorista', axis=1)\n",
    "df_email = df_analysis3[['cooperativa','unidade','e_mail']].drop_duplicates('e_mail', keep='first')\n",
    "\n",
    "for _, row in df_email.iterrows():\n",
    "    iEmail = row['e_mail']\n",
    "    iUnidade = row['unidade']\n",
    "    iCooperativa = row['cooperativa']\n",
    "\n",
    "    df_filtrado = df_analysis3[(df_analysis3['unidade']==iUnidade) & (df_analysis3['cooperativa']==iCooperativa)]\n",
    "\n",
    "    if df_filtrado.empty:\n",
    "        print(f\"Nenhum dado encontrado para {iUnidade} - {iCooperativa}. E-mail não enviado.\")\n",
    "        continue  \n",
    "\n",
    "    df_tabela = df_filtrado.to_html(index=False, border=1)\n",
    "\n",
    "    # if __name__ == '__main__':\n",
    "    #     enviar_email(iEmail, iUnidade, iCooperativa, df_tabela)\n",
    "\n",
    "    print(f\"E-mail enviado para {iEmail}: {iUnidade}({iCooperativa})\")\n",
    "\n"
   ]
  },
  {
   "cell_type": "markdown",
   "metadata": {},
   "source": [
    "função envio e-mail teste"
   ]
  },
  {
   "cell_type": "code",
   "execution_count": 16,
   "metadata": {},
   "outputs": [
    {
     "name": "stderr",
     "output_type": "stream",
     "text": [
      "C:\\Users\\raphael.almeida\\AppData\\Local\\Temp\\ipykernel_31672\\616413508.py:2: SettingWithCopyWarning: \n",
      "A value is trying to be set on a copy of a slice from a DataFrame\n",
      "\n",
      "See the caveats in the documentation: https://pandas.pydata.org/pandas-docs/stable/user_guide/indexing.html#returning-a-view-versus-a-copy\n",
      "  df_analysis.drop(columns='qtd_seg_vida_geral', axis=1, inplace=True)\n"
     ]
    },
    {
     "name": "stdout",
     "output_type": "stream",
     "text": [
      "Email enviado\n",
      "E-mail enviado para contasapagar.unus@gmail.com: TS CONSULTORIA EM TRANSPORTES LTDA(Stcoop)\n",
      "Email enviado\n",
      "E-mail enviado para unidade.cascavel@transdesk.com.br: UNIDADE CASCAVEL(Stcoop)\n",
      "Email enviado\n",
      "E-mail enviado para unidade.curitiba@transdesk.com.br: UNIDADE CURITIBA(Stcoop)\n",
      "Email enviado\n",
      "E-mail enviado para unidade.sinop@transdesk.com.br: UNIDADE SINOP(Stcoop)\n",
      "Email enviado\n",
      "E-mail enviado para unidade.vilhena@transdesk.com.br: UNIDADE VILHENA(Stcoop)\n",
      "Email enviado\n",
      "E-mail enviado para unidade.campogrande@transdesk.com.br: UNIDADE CAMPO GRANDE(Viavante)\n",
      "Email enviado\n",
      "E-mail enviado para unidade.carazinho@transdesk.com.br: UNIDADE CARAZINHO(Viavante)\n",
      "Email enviado\n",
      "E-mail enviado para unidade.cuiaba@transdesk.com.br: UNIDADE CUIABA(Viavante)\n",
      "Email enviado\n",
      "E-mail enviado para unidade.curitiba-vendaonline@transdesk.com.br: UNIDADE CURITIBA - VENDA ONLINE(Viavante)\n",
      "Email enviado\n",
      "E-mail enviado para unidade.dourados@transdesk.com.br: UNIDADE DOURADOS(Viavante)\n",
      "Email enviado\n",
      "E-mail enviado para unidade.feiradesantana@transdesk.com.br: UNIDADE FEIRA DE SANTANA(Viavante)\n",
      "Email enviado\n",
      "E-mail enviado para unidade.guarapuava@transdesk.com.br: UNIDADE GUARAPUAVA(Viavante)\n",
      "Email enviado\n",
      "E-mail enviado para unidade.itajai@transdesk.com.br: UNIDADE ITAJAI(Viavante)\n",
      "Email enviado\n",
      "E-mail enviado para unidade.itapejara@transdesk.com.br: UNIDADE ITAPEJARA(Viavante)\n",
      "Email enviado\n",
      "E-mail enviado para unidade.joinville@transdesk.com.br: UNIDADE JOINVILLE(Viavante)\n",
      "Email enviado\n",
      "E-mail enviado para unidade.londrina@transdesk.com.br: UNIDADE LONDRINA(Viavante)\n",
      "Email enviado\n",
      "E-mail enviado para unidade.lucasdorioverde@transdesk.com.br: UNIDADE LUCAS DO RIO VERDE(Viavante)\n",
      "Email enviado\n",
      "E-mail enviado para unidade.maringa@transdesk.com.br: UNIDADE MARINGÁ(Viavante)\n",
      "Email enviado\n",
      "E-mail enviado para unidade.maringa-vendaonline@transdesk.com.br: UNIDADE MARINGÁ - VENDA ONLINE(Viavante)\n",
      "Email enviado\n",
      "E-mail enviado para unidade.pontagrossa@transdesk.com.br: UNIDADE PONTA GROSSA(Viavante)\n",
      "Email enviado\n",
      "E-mail enviado para unidade.portovelho@transdesk.com.br: UNIDADE PORTO VELHO(Viavante)\n",
      "Email enviado\n",
      "E-mail enviado para unidade.rondonopolis@transdesk.com.br: UNIDADE RONDONÓPOLIS(Viavante)\n",
      "Email enviado\n",
      "E-mail enviado para unidade.saopaulo@transdesk.com.br: UNIDADE SÃO PAULO(Viavante)\n",
      "Email enviado\n",
      "E-mail enviado para unidade.uberlandia@transdesk.com.br: UNIDADE UBERLÂNDIA(Viavante)\n"
     ]
    }
   ],
   "source": [
    "\n",
    "# df_analysis['e_mail']='dados13@grupounus.com.br'\n",
    "df_analysis.drop(columns='qtd_seg_vida_geral', axis=1, inplace=True)\n",
    "df_email = df_analysis[['cooperativa','unidade','e_mail']].drop_duplicates('unidade', keep='first')\n",
    "df_email\n",
    "\n",
    "for _, row in df_email.iterrows():\n",
    "    iEmail = row['e_mail']\n",
    "    iUnidade = row['unidade']\n",
    "    iCooperativa = row['cooperativa']\n",
    "\n",
    "    df_filtrado = df_analysis[(df_analysis['unidade']==iUnidade) & (df_analysis['cooperativa']==iCooperativa)]\n",
    "\n",
    "    if df_filtrado.empty:\n",
    "        print(f\"Nenhum dado encontrado para {iUnidade} - {iCooperativa}. E-mail não enviado.\")\n",
    "        continue  \n",
    "\n",
    "    df_tabela = df_filtrado.to_html(index=False, border=1, classes = \"tabela\")\n",
    "\n",
    "    df_tabela = f\"\"\"\n",
    "    <style>\n",
    "        .tabela {{\n",
    "            width: 100%;\n",
    "            border-collapse: collapse;\n",
    "        }}\n",
    "        .tabela th, .tabela td {{\n",
    "            text-align: center;  \n",
    "            padding: 8px;\n",
    "            border: 1px solid black;\n",
    "        }}\n",
    "    </style>\n",
    "    {df_tabela}\n",
    "    \"\"\"\n",
    "#iEmail, \n",
    "    if __name__ == '__main__':\n",
    "        enviar_email(iUnidade, iCooperativa, df_tabela)\n",
    "\n",
    "    print(f\"E-mail enviado para {iEmail}: {iUnidade}({iCooperativa})\")\n"
   ]
  }
 ],
 "metadata": {
  "kernelspec": {
   "display_name": "env",
   "language": "python",
   "name": "python3"
  },
  "language_info": {
   "codemirror_mode": {
    "name": "ipython",
    "version": 3
   },
   "file_extension": ".py",
   "mimetype": "text/x-python",
   "name": "python",
   "nbconvert_exporter": "python",
   "pygments_lexer": "ipython3",
   "version": "3.12.4"
  }
 },
 "nbformat": 4,
 "nbformat_minor": 2
}
