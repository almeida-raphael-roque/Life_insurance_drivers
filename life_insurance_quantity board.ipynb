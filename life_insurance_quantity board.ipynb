{
 "cells": [
  {
   "cell_type": "code",
   "execution_count": 31,
   "metadata": {},
   "outputs": [],
   "source": [
    "import pandas as pd\n",
    "import awswrangler as awr\n",
    "import openpyxl\n"
   ]
  },
  {
   "cell_type": "code",
   "execution_count": 32,
   "metadata": {},
   "outputs": [],
   "source": [
    "\n",
    "\n",
    "path_to_query = r\"C:\\Users\\raphael.almeida\\Documents\\Projetos\\Seguro de Vida Motorista\\listagem_mestra_ajustada.sql\"\n",
    "\n",
    "with open (path_to_query,'r') as reading:\n",
    "    query_readed = reading.read()\n",
    "\n",
    "df = awr.athena.read_sql_query(query_readed,'silver')"
   ]
  },
  {
   "cell_type": "code",
   "execution_count": 33,
   "metadata": {},
   "outputs": [
    {
     "name": "stdout",
     "output_type": "stream",
     "text": [
      "<class 'pandas.core.frame.DataFrame'>\n",
      "RangeIndex: 131780 entries, 0 to 131779\n",
      "Data columns (total 28 columns):\n",
      " #   Column           Non-Null Count   Dtype \n",
      "---  ------           --------------   ----- \n",
      " 0   cooperativa      131780 non-null  string\n",
      " 1   unidade          131776 non-null  string\n",
      " 2   cliente          131780 non-null  string\n",
      " 3   cnpj_cpf         131780 non-null  string\n",
      " 4   matricula        131780 non-null  Int64 \n",
      " 5   conjunto         131780 non-null  Int64 \n",
      " 6   coverage         131780 non-null  Int64 \n",
      " 7   beneficio        131780 non-null  string\n",
      " 8   id_driver        131780 non-null  Int64 \n",
      " 9   id_people        131780 non-null  Int64 \n",
      " 10  motorista        13706 non-null   string\n",
      " 11  id_placa         88728 non-null   Int64 \n",
      " 12  placa            108551 non-null  string\n",
      " 13  chassi           88728 non-null   string\n",
      " 14  renavam          88715 non-null   string\n",
      " 15  ativacao         131774 non-null  object\n",
      " 16  inicio_vig       131774 non-null  object\n",
      " 17  fim_vig          131774 non-null  object\n",
      " 18  status           131780 non-null  string\n",
      " 19  status_coverage  131780 non-null  string\n",
      " 20  benefits_id      131780 non-null  Int64 \n",
      " 21  categoria        131780 non-null  string\n",
      " 22  tipo_categoria   131780 non-null  string\n",
      " 23  faixa_valor      131780 non-null  string\n",
      " 24  tabela_ativa     131780 non-null  string\n",
      " 25  tipo_veiculo     94181 non-null   string\n",
      " 26  tipo             131780 non-null  string\n",
      " 27  e_mail           24634 non-null   string\n",
      "dtypes: Int64(7), object(3), string(18)\n",
      "memory usage: 29.0+ MB\n"
     ]
    },
    {
     "data": {
      "text/plain": [
       "131780"
      ]
     },
     "execution_count": 33,
     "metadata": {},
     "output_type": "execute_result"
    }
   ],
   "source": [
    "df.info()\n",
    "len(df)"
   ]
  },
  {
   "cell_type": "markdown",
   "metadata": {},
   "source": [
    "placas totais"
   ]
  },
  {
   "cell_type": "code",
   "execution_count": 34,
   "metadata": {},
   "outputs": [
    {
     "data": {
      "text/plain": [
       "31761"
      ]
     },
     "execution_count": 34,
     "metadata": {},
     "output_type": "execute_result"
    }
   ],
   "source": [
    "df['placa'].drop_duplicates().count()"
   ]
  },
  {
   "cell_type": "markdown",
   "metadata": {},
   "source": [
    "seguro de vida geral"
   ]
  },
  {
   "cell_type": "code",
   "execution_count": 35,
   "metadata": {},
   "outputs": [
    {
     "data": {
      "text/plain": [
       "12262"
      ]
     },
     "execution_count": 35,
     "metadata": {},
     "output_type": "execute_result"
    }
   ],
   "source": [
    "df_seguro_de_vida = df[df['benefits_id'].isin([6,28,44])]\n",
    "len(df_seguro_de_vida)\n",
    "\n",
    "#print(len(df_seguro_de_vida))\n",
    "#df_seguro_de_vida.head()\n",
    "#print(len(df_seguro_de_vida.drop_duplicates(subset='placa')))\n",
    "#df_seguro_de_vida['placa'].drop_duplicates().count()"
   ]
  },
  {
   "cell_type": "markdown",
   "metadata": {},
   "source": [
    "seguro de vida de motorista"
   ]
  },
  {
   "cell_type": "code",
   "execution_count": 36,
   "metadata": {},
   "outputs": [
    {
     "data": {
      "text/plain": [
       "9712"
      ]
     },
     "execution_count": 36,
     "metadata": {},
     "output_type": "execute_result"
    }
   ],
   "source": [
    "df_seguro_de_vida_motorista = df_seguro_de_vida[df_seguro_de_vida['faixa_valor'].str.contains('MOTORISTA', na=False)]\n",
    "len(df_seguro_de_vida_motorista)"
   ]
  },
  {
   "cell_type": "code",
   "execution_count": 37,
   "metadata": {},
   "outputs": [
    {
     "data": {
      "text/plain": [
       "17267"
      ]
     },
     "execution_count": 37,
     "metadata": {},
     "output_type": "execute_result"
    }
   ],
   "source": [
    "df_cascos_veiculo = df[df['benefits_id'].isin([2, 24, 40])]\n",
    "len(df_cascos_veiculo)"
   ]
  },
  {
   "cell_type": "code",
   "execution_count": 38,
   "metadata": {},
   "outputs": [
    {
     "data": {
      "text/html": [
       "<div>\n",
       "<style scoped>\n",
       "    .dataframe tbody tr th:only-of-type {\n",
       "        vertical-align: middle;\n",
       "    }\n",
       "\n",
       "    .dataframe tbody tr th {\n",
       "        vertical-align: top;\n",
       "    }\n",
       "\n",
       "    .dataframe thead th {\n",
       "        text-align: right;\n",
       "    }\n",
       "</style>\n",
       "<table border=\"1\" class=\"dataframe\">\n",
       "  <thead>\n",
       "    <tr style=\"text-align: right;\">\n",
       "      <th></th>\n",
       "      <th>cooperativa</th>\n",
       "      <th>unidade</th>\n",
       "      <th>cliente</th>\n",
       "      <th>cnpj_cpf</th>\n",
       "      <th>matricula</th>\n",
       "      <th>conjunto</th>\n",
       "      <th>coverage</th>\n",
       "      <th>beneficio</th>\n",
       "      <th>id_driver</th>\n",
       "      <th>id_people</th>\n",
       "      <th>...</th>\n",
       "      <th>status</th>\n",
       "      <th>status_coverage</th>\n",
       "      <th>benefits_id</th>\n",
       "      <th>categoria</th>\n",
       "      <th>tipo_categoria</th>\n",
       "      <th>faixa_valor</th>\n",
       "      <th>tabela_ativa</th>\n",
       "      <th>tipo_veiculo</th>\n",
       "      <th>tipo</th>\n",
       "      <th>e_mail</th>\n",
       "    </tr>\n",
       "  </thead>\n",
       "  <tbody>\n",
       "    <tr>\n",
       "      <th>40552</th>\n",
       "      <td>Viavante</td>\n",
       "      <td>UNIDADE VILHENA</td>\n",
       "      <td>J DE QUADROS D AVILA</td>\n",
       "      <td>24320817</td>\n",
       "      <td>4874</td>\n",
       "      <td>7127</td>\n",
       "      <td>52782</td>\n",
       "      <td>CASCO (VEÍCULO)</td>\n",
       "      <td>0</td>\n",
       "      <td>0</td>\n",
       "      <td>...</td>\n",
       "      <td>ATIVO</td>\n",
       "      <td>ATIVO</td>\n",
       "      <td>40</td>\n",
       "      <td>CAVALO MECÂNICO</td>\n",
       "      <td>CP: 4% - IVECO - TODOS OS ANOS</td>\n",
       "      <td>De R$200.000,01 até R$225.000,00</td>\n",
       "      <td>N</td>\n",
       "      <td>Pesado - Cavalo</td>\n",
       "      <td>Novo</td>\n",
       "      <td>&lt;NA&gt;</td>\n",
       "    </tr>\n",
       "    <tr>\n",
       "      <th>40554</th>\n",
       "      <td>Viavante</td>\n",
       "      <td>UNIDADE VILHENA</td>\n",
       "      <td>J DE QUADROS D AVILA</td>\n",
       "      <td>24320817</td>\n",
       "      <td>4874</td>\n",
       "      <td>7127</td>\n",
       "      <td>52777</td>\n",
       "      <td>CASCO (VEÍCULO)</td>\n",
       "      <td>0</td>\n",
       "      <td>0</td>\n",
       "      <td>...</td>\n",
       "      <td>ATIVO</td>\n",
       "      <td>ATIVO</td>\n",
       "      <td>40</td>\n",
       "      <td>CAVALO MECÂNICO</td>\n",
       "      <td>CP: 4% - SCANIA - TODOS OS ANOS</td>\n",
       "      <td>De R$975.000,01 até R$1.000.000,00</td>\n",
       "      <td>N</td>\n",
       "      <td>Pesado - Cavalo</td>\n",
       "      <td>Novo</td>\n",
       "      <td>&lt;NA&gt;</td>\n",
       "    </tr>\n",
       "    <tr>\n",
       "      <th>40557</th>\n",
       "      <td>Viavante</td>\n",
       "      <td>UNIDADE VILHENA</td>\n",
       "      <td>J DE QUADROS D AVILA</td>\n",
       "      <td>24320817</td>\n",
       "      <td>4874</td>\n",
       "      <td>7127</td>\n",
       "      <td>52772</td>\n",
       "      <td>CASCO (VEÍCULO)</td>\n",
       "      <td>0</td>\n",
       "      <td>0</td>\n",
       "      <td>...</td>\n",
       "      <td>ATIVO</td>\n",
       "      <td>ATIVO</td>\n",
       "      <td>40</td>\n",
       "      <td>CAVALO MECÂNICO</td>\n",
       "      <td>CP: 4% - SCANIA - TODOS OS ANOS</td>\n",
       "      <td>De R$975.000,01 até R$1.000.000,00</td>\n",
       "      <td>N</td>\n",
       "      <td>Pesado - Cavalo</td>\n",
       "      <td>Novo</td>\n",
       "      <td>&lt;NA&gt;</td>\n",
       "    </tr>\n",
       "    <tr>\n",
       "      <th>40561</th>\n",
       "      <td>Viavante</td>\n",
       "      <td>UNIDADE JOINVILLE</td>\n",
       "      <td>ALDO TOMASONI</td>\n",
       "      <td>21894930991</td>\n",
       "      <td>4189</td>\n",
       "      <td>7131</td>\n",
       "      <td>52804</td>\n",
       "      <td>CASCO (VEÍCULO)</td>\n",
       "      <td>0</td>\n",
       "      <td>0</td>\n",
       "      <td>...</td>\n",
       "      <td>ATIVO</td>\n",
       "      <td>ATIVO</td>\n",
       "      <td>40</td>\n",
       "      <td>3 QUARTOS</td>\n",
       "      <td>CP: 4% - TODAS AS MARCAS - TODOS OS ANOS</td>\n",
       "      <td>De R$125.000,01 até R$150.000,00</td>\n",
       "      <td>N</td>\n",
       "      <td>Pesado - Três Quartos</td>\n",
       "      <td>Novo</td>\n",
       "      <td>&lt;NA&gt;</td>\n",
       "    </tr>\n",
       "    <tr>\n",
       "      <th>40568</th>\n",
       "      <td>Viavante</td>\n",
       "      <td>UNIDADE MARINGÁ</td>\n",
       "      <td>MAE DO CEU TRANSPORTES LTDA</td>\n",
       "      <td>58169086</td>\n",
       "      <td>4878</td>\n",
       "      <td>7138</td>\n",
       "      <td>52851</td>\n",
       "      <td>CASCO (VEÍCULO)</td>\n",
       "      <td>0</td>\n",
       "      <td>0</td>\n",
       "      <td>...</td>\n",
       "      <td>ATIVO</td>\n",
       "      <td>ATIVO</td>\n",
       "      <td>40</td>\n",
       "      <td>CAVALO MECÂNICO</td>\n",
       "      <td>CP: 4% - VOLVO - TODOS OS ANOS</td>\n",
       "      <td>De R$900.000,01 até R$925.000,00</td>\n",
       "      <td>N</td>\n",
       "      <td>Pesado - Cavalo</td>\n",
       "      <td>Novo</td>\n",
       "      <td>&lt;NA&gt;</td>\n",
       "    </tr>\n",
       "  </tbody>\n",
       "</table>\n",
       "<p>5 rows × 28 columns</p>\n",
       "</div>"
      ],
      "text/plain": [
       "      cooperativa            unidade                      cliente  \\\n",
       "40552    Viavante    UNIDADE VILHENA         J DE QUADROS D AVILA   \n",
       "40554    Viavante    UNIDADE VILHENA         J DE QUADROS D AVILA   \n",
       "40557    Viavante    UNIDADE VILHENA         J DE QUADROS D AVILA   \n",
       "40561    Viavante  UNIDADE JOINVILLE                ALDO TOMASONI   \n",
       "40568    Viavante    UNIDADE MARINGÁ  MAE DO CEU TRANSPORTES LTDA   \n",
       "\n",
       "          cnpj_cpf  matricula  conjunto  coverage        beneficio  id_driver  \\\n",
       "40552     24320817       4874      7127     52782  CASCO (VEÍCULO)          0   \n",
       "40554     24320817       4874      7127     52777  CASCO (VEÍCULO)          0   \n",
       "40557     24320817       4874      7127     52772  CASCO (VEÍCULO)          0   \n",
       "40561  21894930991       4189      7131     52804  CASCO (VEÍCULO)          0   \n",
       "40568     58169086       4878      7138     52851  CASCO (VEÍCULO)          0   \n",
       "\n",
       "       id_people  ... status  status_coverage benefits_id        categoria  \\\n",
       "40552          0  ...  ATIVO            ATIVO          40  CAVALO MECÂNICO   \n",
       "40554          0  ...  ATIVO            ATIVO          40  CAVALO MECÂNICO   \n",
       "40557          0  ...  ATIVO            ATIVO          40  CAVALO MECÂNICO   \n",
       "40561          0  ...  ATIVO            ATIVO          40        3 QUARTOS   \n",
       "40568          0  ...  ATIVO            ATIVO          40  CAVALO MECÂNICO   \n",
       "\n",
       "                                 tipo_categoria  \\\n",
       "40552            CP: 4% - IVECO - TODOS OS ANOS   \n",
       "40554           CP: 4% - SCANIA - TODOS OS ANOS   \n",
       "40557           CP: 4% - SCANIA - TODOS OS ANOS   \n",
       "40561  CP: 4% - TODAS AS MARCAS - TODOS OS ANOS   \n",
       "40568            CP: 4% - VOLVO - TODOS OS ANOS   \n",
       "\n",
       "                              faixa_valor tabela_ativa           tipo_veiculo  \\\n",
       "40552    De R$200.000,01 até R$225.000,00            N        Pesado - Cavalo   \n",
       "40554  De R$975.000,01 até R$1.000.000,00            N        Pesado - Cavalo   \n",
       "40557  De R$975.000,01 até R$1.000.000,00            N        Pesado - Cavalo   \n",
       "40561    De R$125.000,01 até R$150.000,00            N  Pesado - Três Quartos   \n",
       "40568    De R$900.000,01 até R$925.000,00            N        Pesado - Cavalo   \n",
       "\n",
       "       tipo e_mail  \n",
       "40552  Novo   <NA>  \n",
       "40554  Novo   <NA>  \n",
       "40557  Novo   <NA>  \n",
       "40561  Novo   <NA>  \n",
       "40568  Novo   <NA>  \n",
       "\n",
       "[5 rows x 28 columns]"
      ]
     },
     "execution_count": 38,
     "metadata": {},
     "output_type": "execute_result"
    }
   ],
   "source": [
    "df_cascos_veiculo_empresa = df_cascos_veiculo[df_cascos_veiculo['cooperativa']=='Viavante']\n",
    "df_cascos_veiculo_empresa.head()"
   ]
  },
  {
   "cell_type": "code",
   "execution_count": 39,
   "metadata": {},
   "outputs": [
    {
     "data": {
      "text/plain": [
       "0"
      ]
     },
     "execution_count": 39,
     "metadata": {},
     "output_type": "execute_result"
    }
   ],
   "source": [
    "df_cascos_sem_motorista = df_cascos_veiculo[df_cascos_veiculo['motorista'].notna()]\n",
    "len(df_cascos_sem_motorista)"
   ]
  },
  {
   "cell_type": "code",
   "execution_count": 40,
   "metadata": {},
   "outputs": [
    {
     "data": {
      "text/plain": [
       "<StringArray>\n",
       "[                 'SEGURO DE VIDA',                      'RASTREADOR',\n",
       " 'RASTREADOR REBOQUE/SEMIRREBOQUE',                    'RASTREAMENTO',\n",
       "                        'ANUIDADE', 'T4S - RASTREADOR / IMOBILIZADOR',\n",
       "             'INSERIDO NA APOLICE',                          'VIDROS']\n",
       "Length: 8, dtype: string"
      ]
     },
     "execution_count": 40,
     "metadata": {},
     "output_type": "execute_result"
    }
   ],
   "source": [
    "df_com_motorista = df[df['motorista'].notna()]\n",
    "df_com_motorista['beneficio'].unique()\n",
    "#df_empresa = df_com_motorista[df_com_motorista['cooperativa']=='Viavante']\n",
    "#df_empresa.head()"
   ]
  },
  {
   "cell_type": "code",
   "execution_count": 41,
   "metadata": {},
   "outputs": [
    {
     "data": {
      "text/plain": [
       "id_driver\n",
       "0    131780\n",
       "Name: count, dtype: Int64"
      ]
     },
     "execution_count": 41,
     "metadata": {},
     "output_type": "execute_result"
    }
   ],
   "source": [
    "df['id_driver'].value_counts()"
   ]
  },
  {
   "cell_type": "code",
   "execution_count": 46,
   "metadata": {},
   "outputs": [
    {
     "data": {
      "text/html": [
       "<div>\n",
       "<style scoped>\n",
       "    .dataframe tbody tr th:only-of-type {\n",
       "        vertical-align: middle;\n",
       "    }\n",
       "\n",
       "    .dataframe tbody tr th {\n",
       "        vertical-align: top;\n",
       "    }\n",
       "\n",
       "    .dataframe thead th {\n",
       "        text-align: right;\n",
       "    }\n",
       "</style>\n",
       "<table border=\"1\" class=\"dataframe\">\n",
       "  <thead>\n",
       "    <tr style=\"text-align: right;\">\n",
       "      <th></th>\n",
       "      <th>cliente</th>\n",
       "      <th>conjunto</th>\n",
       "      <th>placa</th>\n",
       "      <th>motorista</th>\n",
       "      <th>id_people</th>\n",
       "    </tr>\n",
       "  </thead>\n",
       "  <tbody>\n",
       "    <tr>\n",
       "      <th>110625</th>\n",
       "      <td>SERGIO HENRIQUE COSTA E CIA LTDA</td>\n",
       "      <td>14064</td>\n",
       "      <td>TDQ6J66</td>\n",
       "      <td>RONISSON LOPES SIPRIANO</td>\n",
       "      <td>6579</td>\n",
       "    </tr>\n",
       "    <tr>\n",
       "      <th>118765</th>\n",
       "      <td>SERGIO HENRIQUE COSTA E CIA LTDA</td>\n",
       "      <td>14064</td>\n",
       "      <td>QCO0H17</td>\n",
       "      <td>RONISSON LOPES SIPRIANO</td>\n",
       "      <td>6579</td>\n",
       "    </tr>\n",
       "  </tbody>\n",
       "</table>\n",
       "</div>"
      ],
      "text/plain": [
       "                                 cliente  conjunto    placa  \\\n",
       "110625  SERGIO HENRIQUE COSTA E CIA LTDA     14064  TDQ6J66   \n",
       "118765  SERGIO HENRIQUE COSTA E CIA LTDA     14064  QCO0H17   \n",
       "\n",
       "                      motorista  id_people  \n",
       "110625  RONISSON LOPES SIPRIANO       6579  \n",
       "118765  RONISSON LOPES SIPRIANO       6579  "
      ]
     },
     "execution_count": 46,
     "metadata": {},
     "output_type": "execute_result"
    }
   ],
   "source": [
    "df_filter1= df_com_motorista[\n",
    "    (df_com_motorista['cooperativa'] == 'Viavante') &\n",
    "    (df_com_motorista['beneficio'] != 'SEGURO DE VIDA')\n",
    "]\n",
    "\n",
    "df_filter1[['cliente','conjunto','placa','motorista','id_people']].head()\n",
    "\n",
    "df_filter12 = df_filter1[df_filter1['cliente'].str.contains('SERGIO HENRIQUE COSTA')]\n",
    "\n",
    "df_filter12[['cliente','conjunto','placa','motorista','id_people']].head()"
   ]
  },
  {
   "cell_type": "markdown",
   "metadata": {},
   "source": [
    "base_analise"
   ]
  },
  {
   "cell_type": "code",
   "execution_count": 4,
   "metadata": {},
   "outputs": [],
   "source": [
    "\n",
    "#excluir coluna de e-mail pois está diferenciando na análise\n",
    "#df = df.drop('e_mail', axis=1)\n",
    "df = df.drop_duplicates()\n",
    "\n",
    "#pegar apenas os conjuntos obrigatorios de seguro de vida\n",
    "beneficios_conjuntos = df.groupby(['conjunto', 'cooperativa'])['benefits_id'].unique()\n",
    "conjuntos_validos = beneficios_conjuntos[(beneficios_conjuntos.apply(lambda x: {2,6}.issubset((x))))|\n",
    "                                         (beneficios_conjuntos.apply(lambda x: {24,28}.issubset((x))))|\n",
    "                                         (beneficios_conjuntos.apply(lambda x: {40,44}.issubset((x))))].index\n",
    "\n",
    "df_obrigatorio = df[df.set_index(['conjunto','cooperativa']).index.isin(conjuntos_validos)].copy()\n",
    "\n",
    "#criar colunas para posterior agregação\n",
    "df_obrigatorio['casco'] = df_obrigatorio['benefits_id'].apply(lambda x: x if (x == 2 or x == 24 or x == 40) else pd.NA)\n",
    "#df_obrigatorio['seg_vida'] = df_obrigatorio['benefits_id'].apply(lambda x: x if (x==6 or x==28 or x==44) else pd.NA)\n",
    "\n",
    "\n",
    "df_obrigatorio['seg_vida_motorista'] = df_obrigatorio.apply(lambda row: \n",
    "                                                  row['benefits_id'] if (row['benefits_id'] in [6,28,44] and 'MOTORISTA' in row['faixa_valor'])\n",
    "else pd.NA, axis=1)\n",
    "\n",
    "df_obrigatorio['seg_vida_geral'] = df_obrigatorio.apply(lambda row: \n",
    "                                                  row['benefits_id'] if (row['benefits_id'] in [6,28,44] and 'MOTORISTA' not in row['faixa_valor'])\n",
    "else pd.NA, axis=1)\n",
    "\n",
    "#filtrando apenas os que fazem sentido para a análise (casco e seguro de vida)\n",
    "df_obrigatorio_filtrado = df_obrigatorio[df_obrigatorio['benefits_id'].isin([2,6,24,28,40,44])]"
   ]
  },
  {
   "cell_type": "code",
   "execution_count": 5,
   "metadata": {},
   "outputs": [
    {
     "data": {
      "text/html": [
       "<div>\n",
       "<style scoped>\n",
       "    .dataframe tbody tr th:only-of-type {\n",
       "        vertical-align: middle;\n",
       "    }\n",
       "\n",
       "    .dataframe tbody tr th {\n",
       "        vertical-align: top;\n",
       "    }\n",
       "\n",
       "    .dataframe thead th {\n",
       "        text-align: right;\n",
       "    }\n",
       "</style>\n",
       "<table border=\"1\" class=\"dataframe\">\n",
       "  <thead>\n",
       "    <tr style=\"text-align: right;\">\n",
       "      <th></th>\n",
       "      <th>cooperativa</th>\n",
       "      <th>unidade</th>\n",
       "      <th>cliente</th>\n",
       "      <th>matricula</th>\n",
       "      <th>conjunto</th>\n",
       "      <th>coverage</th>\n",
       "      <th>beneficio</th>\n",
       "      <th>motorista</th>\n",
       "      <th>id_placa</th>\n",
       "      <th>placa</th>\n",
       "      <th>...</th>\n",
       "      <th>categoria</th>\n",
       "      <th>tipo_categoria</th>\n",
       "      <th>faixa_valor</th>\n",
       "      <th>tabela_ativa</th>\n",
       "      <th>tipo_veiculo</th>\n",
       "      <th>tipo</th>\n",
       "      <th>e_mail</th>\n",
       "      <th>casco</th>\n",
       "      <th>seg_vida_motorista</th>\n",
       "      <th>seg_vida_geral</th>\n",
       "    </tr>\n",
       "  </thead>\n",
       "  <tbody>\n",
       "    <tr>\n",
       "      <th>0</th>\n",
       "      <td>Stcoop</td>\n",
       "      <td>UNIDADE SINOP</td>\n",
       "      <td>FABIO TURRA JAEGER</td>\n",
       "      <td>21573</td>\n",
       "      <td>13608</td>\n",
       "      <td>84648</td>\n",
       "      <td>CASCO (VEÍCULO)</td>\n",
       "      <td>&lt;NA&gt;</td>\n",
       "      <td>17310</td>\n",
       "      <td>RLJ1C15</td>\n",
       "      <td>...</td>\n",
       "      <td>CAVALO</td>\n",
       "      <td>LC: 100% - CP: 4% - SCANIA - 2024 ATÉ 2021</td>\n",
       "      <td>De R$600.000,01 até R$625.000,00</td>\n",
       "      <td>S</td>\n",
       "      <td>Cavalo</td>\n",
       "      <td>RenovaÃ§Ã£o</td>\n",
       "      <td>&lt;NA&gt;</td>\n",
       "      <td>24</td>\n",
       "      <td>&lt;NA&gt;</td>\n",
       "      <td>&lt;NA&gt;</td>\n",
       "    </tr>\n",
       "    <tr>\n",
       "      <th>1</th>\n",
       "      <td>Stcoop</td>\n",
       "      <td>UNIDADE CASCAVEL</td>\n",
       "      <td>RICARDO ROSA AMORIM EIRELI</td>\n",
       "      <td>21578</td>\n",
       "      <td>13610</td>\n",
       "      <td>84655</td>\n",
       "      <td>CASCO (VEÍCULO)</td>\n",
       "      <td>&lt;NA&gt;</td>\n",
       "      <td>19062</td>\n",
       "      <td>QAY6H04</td>\n",
       "      <td>...</td>\n",
       "      <td>CAVALO</td>\n",
       "      <td>LC: 100% - CP: 4% - SCANIA - 2024 ATÉ 2021</td>\n",
       "      <td>De R$625.000,01 até R$650.000,00</td>\n",
       "      <td>S</td>\n",
       "      <td>Cavalo</td>\n",
       "      <td>RenovaÃ§Ã£o</td>\n",
       "      <td>&lt;NA&gt;</td>\n",
       "      <td>24</td>\n",
       "      <td>&lt;NA&gt;</td>\n",
       "      <td>&lt;NA&gt;</td>\n",
       "    </tr>\n",
       "    <tr>\n",
       "      <th>5</th>\n",
       "      <td>Stcoop</td>\n",
       "      <td>UNIDADE RONDONÓPOLIS</td>\n",
       "      <td>VILMAR ALEXANDRE DA SILVA TRANSPORTES</td>\n",
       "      <td>11931</td>\n",
       "      <td>13612</td>\n",
       "      <td>84672</td>\n",
       "      <td>SEGURO DE VIDA</td>\n",
       "      <td>VILMAR ALEXANDRE DA SILVA</td>\n",
       "      <td>&lt;NA&gt;</td>\n",
       "      <td>&lt;NA&gt;</td>\n",
       "      <td>...</td>\n",
       "      <td>PADRÃO</td>\n",
       "      <td>PADRÃO</td>\n",
       "      <td>MOTORISTA - Seguro de Vida via Rep. ou Rep. do...</td>\n",
       "      <td>N</td>\n",
       "      <td>&lt;NA&gt;</td>\n",
       "      <td>RenovaÃ§Ã£o</td>\n",
       "      <td>&lt;NA&gt;</td>\n",
       "      <td>&lt;NA&gt;</td>\n",
       "      <td>28</td>\n",
       "      <td>&lt;NA&gt;</td>\n",
       "    </tr>\n",
       "    <tr>\n",
       "      <th>8</th>\n",
       "      <td>Stcoop</td>\n",
       "      <td>UNIDADE CURITIBA</td>\n",
       "      <td>A. SAID TRANSPORTES LTDA - ME</td>\n",
       "      <td>6400</td>\n",
       "      <td>13616</td>\n",
       "      <td>84691</td>\n",
       "      <td>CASCO (VEÍCULO)</td>\n",
       "      <td>&lt;NA&gt;</td>\n",
       "      <td>18914</td>\n",
       "      <td>BDV1A44</td>\n",
       "      <td>...</td>\n",
       "      <td>CAVALO</td>\n",
       "      <td>LC: 100% - CP: 4% - DAF E MAN - 2024 ATÉ 2019</td>\n",
       "      <td>De R$350.000,01 até R$375.000,00</td>\n",
       "      <td>S</td>\n",
       "      <td>Cavalo</td>\n",
       "      <td>RenovaÃ§Ã£o</td>\n",
       "      <td>&lt;NA&gt;</td>\n",
       "      <td>24</td>\n",
       "      <td>&lt;NA&gt;</td>\n",
       "      <td>&lt;NA&gt;</td>\n",
       "    </tr>\n",
       "    <tr>\n",
       "      <th>10</th>\n",
       "      <td>Stcoop</td>\n",
       "      <td>UNIDADE ITAJAI</td>\n",
       "      <td>SANDRO LUIZ VIEIRA</td>\n",
       "      <td>2312</td>\n",
       "      <td>13618</td>\n",
       "      <td>84709</td>\n",
       "      <td>SEGURO DE VIDA</td>\n",
       "      <td>SANDRO LUIZ VIEIRA</td>\n",
       "      <td>&lt;NA&gt;</td>\n",
       "      <td>&lt;NA&gt;</td>\n",
       "      <td>...</td>\n",
       "      <td>PADRÃO</td>\n",
       "      <td>PADRÃO</td>\n",
       "      <td>MOTORISTA - Seguro de Vida via Rep. ou Rep. do...</td>\n",
       "      <td>N</td>\n",
       "      <td>&lt;NA&gt;</td>\n",
       "      <td>RenovaÃ§Ã£o</td>\n",
       "      <td>&lt;NA&gt;</td>\n",
       "      <td>&lt;NA&gt;</td>\n",
       "      <td>28</td>\n",
       "      <td>&lt;NA&gt;</td>\n",
       "    </tr>\n",
       "  </tbody>\n",
       "</table>\n",
       "<p>5 rows × 28 columns</p>\n",
       "</div>"
      ],
      "text/plain": [
       "   cooperativa               unidade                                cliente  \\\n",
       "0       Stcoop         UNIDADE SINOP                     FABIO TURRA JAEGER   \n",
       "1       Stcoop      UNIDADE CASCAVEL             RICARDO ROSA AMORIM EIRELI   \n",
       "5       Stcoop  UNIDADE RONDONÓPOLIS  VILMAR ALEXANDRE DA SILVA TRANSPORTES   \n",
       "8       Stcoop      UNIDADE CURITIBA          A. SAID TRANSPORTES LTDA - ME   \n",
       "10      Stcoop        UNIDADE ITAJAI                     SANDRO LUIZ VIEIRA   \n",
       "\n",
       "    matricula  conjunto  coverage        beneficio                  motorista  \\\n",
       "0       21573     13608     84648  CASCO (VEÍCULO)                       <NA>   \n",
       "1       21578     13610     84655  CASCO (VEÍCULO)                       <NA>   \n",
       "5       11931     13612     84672   SEGURO DE VIDA  VILMAR ALEXANDRE DA SILVA   \n",
       "8        6400     13616     84691  CASCO (VEÍCULO)                       <NA>   \n",
       "10       2312     13618     84709   SEGURO DE VIDA         SANDRO LUIZ VIEIRA   \n",
       "\n",
       "    id_placa    placa  ... categoria  \\\n",
       "0      17310  RLJ1C15  ...    CAVALO   \n",
       "1      19062  QAY6H04  ...    CAVALO   \n",
       "5       <NA>     <NA>  ...    PADRÃO   \n",
       "8      18914  BDV1A44  ...    CAVALO   \n",
       "10      <NA>     <NA>  ...    PADRÃO   \n",
       "\n",
       "                                   tipo_categoria  \\\n",
       "0      LC: 100% - CP: 4% - SCANIA - 2024 ATÉ 2021   \n",
       "1      LC: 100% - CP: 4% - SCANIA - 2024 ATÉ 2021   \n",
       "5                                          PADRÃO   \n",
       "8   LC: 100% - CP: 4% - DAF E MAN - 2024 ATÉ 2019   \n",
       "10                                         PADRÃO   \n",
       "\n",
       "                                          faixa_valor tabela_ativa  \\\n",
       "0                    De R$600.000,01 até R$625.000,00            S   \n",
       "1                    De R$625.000,01 até R$650.000,00            S   \n",
       "5   MOTORISTA - Seguro de Vida via Rep. ou Rep. do...            N   \n",
       "8                    De R$350.000,01 até R$375.000,00            S   \n",
       "10  MOTORISTA - Seguro de Vida via Rep. ou Rep. do...            N   \n",
       "\n",
       "   tipo_veiculo         tipo e_mail  casco seg_vida_motorista seg_vida_geral  \n",
       "0        Cavalo  RenovaÃ§Ã£o   <NA>     24               <NA>           <NA>  \n",
       "1        Cavalo  RenovaÃ§Ã£o   <NA>     24               <NA>           <NA>  \n",
       "5          <NA>  RenovaÃ§Ã£o   <NA>   <NA>                 28           <NA>  \n",
       "8        Cavalo  RenovaÃ§Ã£o   <NA>     24               <NA>           <NA>  \n",
       "10         <NA>  RenovaÃ§Ã£o   <NA>   <NA>                 28           <NA>  \n",
       "\n",
       "[5 rows x 28 columns]"
      ]
     },
     "execution_count": 5,
     "metadata": {},
     "output_type": "execute_result"
    }
   ],
   "source": [
    "df_obrigatorio_filtrado.head()"
   ]
  },
  {
   "cell_type": "code",
   "execution_count": 7,
   "metadata": {},
   "outputs": [
    {
     "data": {
      "text/plain": [
       "9611"
      ]
     },
     "execution_count": 7,
     "metadata": {},
     "output_type": "execute_result"
    }
   ],
   "source": [
    "df_obrigatorio_filtrado['seg_vida_motorista'].count()"
   ]
  },
  {
   "cell_type": "markdown",
   "metadata": {},
   "source": [
    "conjuntos_analise"
   ]
  },
  {
   "cell_type": "code",
   "execution_count": 14,
   "metadata": {},
   "outputs": [],
   "source": [
    "\n",
    "\n",
    "df_analise = df_obrigatorio_filtrado.groupby(['cooperativa','unidade','matricula','conjunto','e_mail']).agg(\n",
    "    qtd_seg_vida_motorista = ('seg_vida_motorista', 'count'),\n",
    "    qtd_casco = ('casco', 'count'),\n",
    "    qtd_seg_vida_geral = ('seg_vida_geral', 'count')\n",
    ").reset_index()\n",
    "\n",
    "#df_analise.drop_duplicates('e_mail', keep='first')\n",
    "df_analise.sort_values(by='conjunto', ascending=False)\n",
    "\n",
    "# df_analysis=df_analise[(df_analise['qtd_motorista']!=df_analise['qtd_casco'])|\n",
    "#                       (df_analise['qtd_motorista']!=df_analise['qtd_seg_vida'])|\n",
    "#                       (df_analise['qtd_casco']!=df_analise['qtd_seg_vida'])]\n",
    "\n",
    "df_analysis = df_analise[df_analise['qtd_seg_vida_motorista']<df_analise['qtd_casco']]\n",
    "\n",
    "#df_analysis = df_analise[row, ['cooperativa','unidade','matricula','conjunto','qtd_motoristas','qtd_cascos','qtd_segvida']]\n",
    "\n",
    "# file_path  = r'C:\\Users\\raphael.almeida\\Documents\\Projetos\\Seguro de Vida Motorista\\conjuntos_analise.xlsx'\n",
    "# df_analysis.to_excel(file_path, engine = 'openpyxl', index = False)\n",
    "\n",
    "# file_path  = r'C:\\Users\\raphael.almeida\\Documents\\Projetos\\Seguro de Vida Motorista\\conjuntos_variados.xlsx'\n",
    "# df_analise.to_excel(file_path, engine = 'openpyxl', index = False)\n",
    "\n"
   ]
  }
 ],
 "metadata": {
  "kernelspec": {
   "display_name": "env",
   "language": "python",
   "name": "python3"
  },
  "language_info": {
   "codemirror_mode": {
    "name": "ipython",
    "version": 3
   },
   "file_extension": ".py",
   "mimetype": "text/x-python",
   "name": "python",
   "nbconvert_exporter": "python",
   "pygments_lexer": "ipython3",
   "version": "3.12.4"
  }
 },
 "nbformat": 4,
 "nbformat_minor": 2
}
